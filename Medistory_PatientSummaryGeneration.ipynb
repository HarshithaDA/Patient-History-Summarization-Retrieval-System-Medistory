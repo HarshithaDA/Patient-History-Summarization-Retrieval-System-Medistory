{
  "nbformat": 4,
  "nbformat_minor": 0,
  "metadata": {
    "colab": {
      "provenance": []
    },
    "kernelspec": {
      "name": "python3",
      "display_name": "Python 3"
    },
    "language_info": {
      "name": "python"
    }
  },
  "cells": [
    {
      "cell_type": "code",
      "source": [
        "!pip install -U langchain langchain-google-genai google-generativeai azure-storage-blob\n"
      ],
      "metadata": {
        "colab": {
          "base_uri": "https://localhost:8080/"
        },
        "id": "ZYgRVEzC2rO7",
        "outputId": "5bf1db37-2daa-4138-fab1-6e576e4076bb"
      },
      "execution_count": null,
      "outputs": [
        {
          "output_type": "stream",
          "name": "stdout",
          "text": [
            "Requirement already satisfied: langchain in /usr/local/lib/python3.11/dist-packages (0.3.23)\n",
            "Collecting langchain-google-genai\n",
            "  Downloading langchain_google_genai-2.1.3-py3-none-any.whl.metadata (4.7 kB)\n",
            "Requirement already satisfied: google-generativeai in /usr/local/lib/python3.11/dist-packages (0.8.4)\n",
            "Collecting azure-storage-blob\n",
            "  Downloading azure_storage_blob-12.25.1-py3-none-any.whl.metadata (26 kB)\n",
            "Requirement already satisfied: langchain-core<1.0.0,>=0.3.51 in /usr/local/lib/python3.11/dist-packages (from langchain) (0.3.51)\n",
            "Requirement already satisfied: langchain-text-splitters<1.0.0,>=0.3.8 in /usr/local/lib/python3.11/dist-packages (from langchain) (0.3.8)\n",
            "Requirement already satisfied: langsmith<0.4,>=0.1.17 in /usr/local/lib/python3.11/dist-packages (from langchain) (0.3.28)\n",
            "Requirement already satisfied: pydantic<3.0.0,>=2.7.4 in /usr/local/lib/python3.11/dist-packages (from langchain) (2.11.3)\n",
            "Requirement already satisfied: SQLAlchemy<3,>=1.4 in /usr/local/lib/python3.11/dist-packages (from langchain) (2.0.40)\n",
            "Requirement already satisfied: requests<3,>=2 in /usr/local/lib/python3.11/dist-packages (from langchain) (2.32.3)\n",
            "Requirement already satisfied: PyYAML>=5.3 in /usr/local/lib/python3.11/dist-packages (from langchain) (6.0.2)\n",
            "Collecting filetype<2.0.0,>=1.2.0 (from langchain-google-genai)\n",
            "  Downloading filetype-1.2.0-py2.py3-none-any.whl.metadata (6.5 kB)\n",
            "Collecting google-ai-generativelanguage<0.7.0,>=0.6.16 (from langchain-google-genai)\n",
            "  Downloading google_ai_generativelanguage-0.6.17-py3-none-any.whl.metadata (9.8 kB)\n",
            "Collecting langchain-core<1.0.0,>=0.3.51 (from langchain)\n",
            "  Downloading langchain_core-0.3.52-py3-none-any.whl.metadata (5.9 kB)\n",
            "INFO: pip is looking at multiple versions of google-generativeai to determine which version is compatible with other requirements. This could take a while.\n",
            "Collecting google-generativeai\n",
            "  Downloading google_generativeai-0.8.4-py3-none-any.whl.metadata (4.2 kB)\n",
            "  Downloading google_generativeai-0.8.3-py3-none-any.whl.metadata (3.9 kB)\n",
            "  Downloading google_generativeai-0.8.2-py3-none-any.whl.metadata (3.9 kB)\n",
            "  Downloading google_generativeai-0.8.1-py3-none-any.whl.metadata (3.9 kB)\n",
            "INFO: pip is still looking at multiple versions of google-generativeai to determine which version is compatible with other requirements. This could take a while.\n",
            "  Downloading google_generativeai-0.8.0-py3-none-any.whl.metadata (3.9 kB)\n",
            "  Downloading google_generativeai-0.7.2-py3-none-any.whl.metadata (4.0 kB)\n",
            "INFO: This is taking longer than usual. You might need to provide the dependency resolver with stricter constraints to reduce runtime. See https://pip.pypa.io/warnings/backtracking for guidance. If you want to abort this run, press Ctrl + C.\n",
            "  Downloading google_generativeai-0.7.1-py3-none-any.whl.metadata (3.9 kB)\n",
            "  Downloading google_generativeai-0.7.0-py3-none-any.whl.metadata (3.9 kB)\n",
            "  Downloading google_generativeai-0.6.0-py3-none-any.whl.metadata (3.9 kB)\n",
            "  Downloading google_generativeai-0.5.4-py3-none-any.whl.metadata (3.9 kB)\n",
            "  Downloading google_generativeai-0.5.3-py3-none-any.whl.metadata (3.9 kB)\n",
            "  Downloading google_generativeai-0.5.2-py3-none-any.whl.metadata (3.9 kB)\n",
            "  Downloading google_generativeai-0.5.1-py3-none-any.whl.metadata (3.9 kB)\n",
            "  Downloading google_generativeai-0.5.0-py3-none-any.whl.metadata (3.9 kB)\n",
            "  Downloading google_generativeai-0.4.1-py3-none-any.whl.metadata (6.2 kB)\n",
            "  Downloading google_generativeai-0.4.0-py3-none-any.whl.metadata (6.2 kB)\n",
            "  Downloading google_generativeai-0.3.2-py3-none-any.whl.metadata (5.9 kB)\n",
            "  Downloading google_generativeai-0.3.1-py3-none-any.whl.metadata (5.9 kB)\n",
            "  Downloading google_generativeai-0.3.0-py3-none-any.whl.metadata (5.8 kB)\n",
            "  Downloading google_generativeai-0.2.2-py3-none-any.whl.metadata (3.1 kB)\n",
            "  Downloading google_generativeai-0.2.1-py3-none-any.whl.metadata (3.1 kB)\n",
            "  Downloading google_generativeai-0.2.0-py3-none-any.whl.metadata (3.1 kB)\n",
            "  Downloading google_generativeai-0.1.0-py3-none-any.whl.metadata (3.0 kB)\n",
            "Collecting langchain-google-genai\n",
            "  Downloading langchain_google_genai-2.1.2-py3-none-any.whl.metadata (4.7 kB)\n",
            "  Downloading langchain_google_genai-2.1.1-py3-none-any.whl.metadata (4.7 kB)\n",
            "  Downloading langchain_google_genai-2.1.0-py3-none-any.whl.metadata (3.6 kB)\n",
            "  Downloading langchain_google_genai-2.0.11-py3-none-any.whl.metadata (3.6 kB)\n",
            "  Downloading langchain_google_genai-2.0.10-py3-none-any.whl.metadata (3.6 kB)\n",
            "Requirement already satisfied: google-ai-generativelanguage==0.6.15 in /usr/local/lib/python3.11/dist-packages (from google-generativeai) (0.6.15)\n",
            "Requirement already satisfied: google-api-core in /usr/local/lib/python3.11/dist-packages (from google-generativeai) (2.24.2)\n",
            "Requirement already satisfied: google-api-python-client in /usr/local/lib/python3.11/dist-packages (from google-generativeai) (2.164.0)\n",
            "Requirement already satisfied: google-auth>=2.15.0 in /usr/local/lib/python3.11/dist-packages (from google-generativeai) (2.38.0)\n",
            "Requirement already satisfied: protobuf in /usr/local/lib/python3.11/dist-packages (from google-generativeai) (5.29.4)\n",
            "Requirement already satisfied: tqdm in /usr/local/lib/python3.11/dist-packages (from google-generativeai) (4.67.1)\n",
            "Requirement already satisfied: typing-extensions in /usr/local/lib/python3.11/dist-packages (from google-generativeai) (4.13.1)\n",
            "Requirement already satisfied: proto-plus<2.0.0dev,>=1.22.3 in /usr/local/lib/python3.11/dist-packages (from google-ai-generativelanguage==0.6.15->google-generativeai) (1.26.1)\n",
            "Collecting azure-core>=1.30.0 (from azure-storage-blob)\n",
            "  Downloading azure_core-1.33.0-py3-none-any.whl.metadata (42 kB)\n",
            "\u001b[2K     \u001b[90m━━━━━━━━━━━━━━━━━━━━━━━━━━━━━━━━━━━━━━━━\u001b[0m \u001b[32m42.6/42.6 kB\u001b[0m \u001b[31m2.9 MB/s\u001b[0m eta \u001b[36m0:00:00\u001b[0m\n",
            "\u001b[?25hRequirement already satisfied: cryptography>=2.1.4 in /usr/local/lib/python3.11/dist-packages (from azure-storage-blob) (43.0.3)\n",
            "Collecting isodate>=0.6.1 (from azure-storage-blob)\n",
            "  Downloading isodate-0.7.2-py3-none-any.whl.metadata (11 kB)\n",
            "Requirement already satisfied: six>=1.11.0 in /usr/local/lib/python3.11/dist-packages (from azure-core>=1.30.0->azure-storage-blob) (1.17.0)\n",
            "Requirement already satisfied: cffi>=1.12 in /usr/local/lib/python3.11/dist-packages (from cryptography>=2.1.4->azure-storage-blob) (1.17.1)\n",
            "Requirement already satisfied: googleapis-common-protos<2.0.0,>=1.56.2 in /usr/local/lib/python3.11/dist-packages (from google-api-core->google-generativeai) (1.69.2)\n",
            "Requirement already satisfied: cachetools<6.0,>=2.0.0 in /usr/local/lib/python3.11/dist-packages (from google-auth>=2.15.0->google-generativeai) (5.5.2)\n",
            "Requirement already satisfied: pyasn1-modules>=0.2.1 in /usr/local/lib/python3.11/dist-packages (from google-auth>=2.15.0->google-generativeai) (0.4.2)\n",
            "Requirement already satisfied: rsa<5,>=3.1.4 in /usr/local/lib/python3.11/dist-packages (from google-auth>=2.15.0->google-generativeai) (4.9)\n",
            "Requirement already satisfied: tenacity!=8.4.0,<10.0.0,>=8.1.0 in /usr/local/lib/python3.11/dist-packages (from langchain-core<1.0.0,>=0.3.51->langchain) (9.1.2)\n",
            "Requirement already satisfied: jsonpatch<2.0,>=1.33 in /usr/local/lib/python3.11/dist-packages (from langchain-core<1.0.0,>=0.3.51->langchain) (1.33)\n",
            "Requirement already satisfied: packaging<25,>=23.2 in /usr/local/lib/python3.11/dist-packages (from langchain-core<1.0.0,>=0.3.51->langchain) (24.2)\n",
            "Requirement already satisfied: httpx<1,>=0.23.0 in /usr/local/lib/python3.11/dist-packages (from langsmith<0.4,>=0.1.17->langchain) (0.28.1)\n",
            "Requirement already satisfied: orjson<4.0.0,>=3.9.14 in /usr/local/lib/python3.11/dist-packages (from langsmith<0.4,>=0.1.17->langchain) (3.10.16)\n",
            "Requirement already satisfied: requests-toolbelt<2.0.0,>=1.0.0 in /usr/local/lib/python3.11/dist-packages (from langsmith<0.4,>=0.1.17->langchain) (1.0.0)\n",
            "Requirement already satisfied: zstandard<0.24.0,>=0.23.0 in /usr/local/lib/python3.11/dist-packages (from langsmith<0.4,>=0.1.17->langchain) (0.23.0)\n",
            "Requirement already satisfied: annotated-types>=0.6.0 in /usr/local/lib/python3.11/dist-packages (from pydantic<3.0.0,>=2.7.4->langchain) (0.7.0)\n",
            "Requirement already satisfied: pydantic-core==2.33.1 in /usr/local/lib/python3.11/dist-packages (from pydantic<3.0.0,>=2.7.4->langchain) (2.33.1)\n",
            "Requirement already satisfied: typing-inspection>=0.4.0 in /usr/local/lib/python3.11/dist-packages (from pydantic<3.0.0,>=2.7.4->langchain) (0.4.0)\n",
            "Requirement already satisfied: charset-normalizer<4,>=2 in /usr/local/lib/python3.11/dist-packages (from requests<3,>=2->langchain) (3.4.1)\n",
            "Requirement already satisfied: idna<4,>=2.5 in /usr/local/lib/python3.11/dist-packages (from requests<3,>=2->langchain) (3.10)\n",
            "Requirement already satisfied: urllib3<3,>=1.21.1 in /usr/local/lib/python3.11/dist-packages (from requests<3,>=2->langchain) (2.3.0)\n",
            "Requirement already satisfied: certifi>=2017.4.17 in /usr/local/lib/python3.11/dist-packages (from requests<3,>=2->langchain) (2025.1.31)\n",
            "Requirement already satisfied: greenlet>=1 in /usr/local/lib/python3.11/dist-packages (from SQLAlchemy<3,>=1.4->langchain) (3.1.1)\n",
            "Requirement already satisfied: httplib2<1.dev0,>=0.19.0 in /usr/local/lib/python3.11/dist-packages (from google-api-python-client->google-generativeai) (0.22.0)\n",
            "Requirement already satisfied: google-auth-httplib2<1.0.0,>=0.2.0 in /usr/local/lib/python3.11/dist-packages (from google-api-python-client->google-generativeai) (0.2.0)\n",
            "Requirement already satisfied: uritemplate<5,>=3.0.1 in /usr/local/lib/python3.11/dist-packages (from google-api-python-client->google-generativeai) (4.1.1)\n",
            "Requirement already satisfied: pycparser in /usr/local/lib/python3.11/dist-packages (from cffi>=1.12->cryptography>=2.1.4->azure-storage-blob) (2.22)\n",
            "Requirement already satisfied: grpcio<2.0dev,>=1.33.2 in /usr/local/lib/python3.11/dist-packages (from google-api-core[grpc]!=2.0.*,!=2.1.*,!=2.10.*,!=2.2.*,!=2.3.*,!=2.4.*,!=2.5.*,!=2.6.*,!=2.7.*,!=2.8.*,!=2.9.*,<3.0.0dev,>=1.34.1->google-ai-generativelanguage==0.6.15->google-generativeai) (1.71.0)\n",
            "Requirement already satisfied: grpcio-status<2.0.dev0,>=1.33.2 in /usr/local/lib/python3.11/dist-packages (from google-api-core[grpc]!=2.0.*,!=2.1.*,!=2.10.*,!=2.2.*,!=2.3.*,!=2.4.*,!=2.5.*,!=2.6.*,!=2.7.*,!=2.8.*,!=2.9.*,<3.0.0dev,>=1.34.1->google-ai-generativelanguage==0.6.15->google-generativeai) (1.71.0)\n",
            "Requirement already satisfied: pyparsing!=3.0.0,!=3.0.1,!=3.0.2,!=3.0.3,<4,>=2.4.2 in /usr/local/lib/python3.11/dist-packages (from httplib2<1.dev0,>=0.19.0->google-api-python-client->google-generativeai) (3.2.3)\n",
            "Requirement already satisfied: anyio in /usr/local/lib/python3.11/dist-packages (from httpx<1,>=0.23.0->langsmith<0.4,>=0.1.17->langchain) (4.9.0)\n",
            "Requirement already satisfied: httpcore==1.* in /usr/local/lib/python3.11/dist-packages (from httpx<1,>=0.23.0->langsmith<0.4,>=0.1.17->langchain) (1.0.7)\n",
            "Requirement already satisfied: h11<0.15,>=0.13 in /usr/local/lib/python3.11/dist-packages (from httpcore==1.*->httpx<1,>=0.23.0->langsmith<0.4,>=0.1.17->langchain) (0.14.0)\n",
            "Requirement already satisfied: jsonpointer>=1.9 in /usr/local/lib/python3.11/dist-packages (from jsonpatch<2.0,>=1.33->langchain-core<1.0.0,>=0.3.51->langchain) (3.0.0)\n",
            "Requirement already satisfied: pyasn1<0.7.0,>=0.6.1 in /usr/local/lib/python3.11/dist-packages (from pyasn1-modules>=0.2.1->google-auth>=2.15.0->google-generativeai) (0.6.1)\n",
            "Requirement already satisfied: sniffio>=1.1 in /usr/local/lib/python3.11/dist-packages (from anyio->httpx<1,>=0.23.0->langsmith<0.4,>=0.1.17->langchain) (1.3.1)\n",
            "Downloading langchain_google_genai-2.0.10-py3-none-any.whl (41 kB)\n",
            "\u001b[2K   \u001b[90m━━━━━━━━━━━━━━━━━━━━━━━━━━━━━━━━━━━━━━━━\u001b[0m \u001b[32m42.0/42.0 kB\u001b[0m \u001b[31m2.9 MB/s\u001b[0m eta \u001b[36m0:00:00\u001b[0m\n",
            "\u001b[?25hDownloading azure_storage_blob-12.25.1-py3-none-any.whl (406 kB)\n",
            "\u001b[2K   \u001b[90m━━━━━━━━━━━━━━━━━━━━━━━━━━━━━━━━━━━━━━━━\u001b[0m \u001b[32m407.0/407.0 kB\u001b[0m \u001b[31m10.6 MB/s\u001b[0m eta \u001b[36m0:00:00\u001b[0m\n",
            "\u001b[?25hDownloading azure_core-1.33.0-py3-none-any.whl (207 kB)\n",
            "\u001b[2K   \u001b[90m━━━━━━━━━━━━━━━━━━━━━━━━━━━━━━━━━━━━━━━━\u001b[0m \u001b[32m207.1/207.1 kB\u001b[0m \u001b[31m15.3 MB/s\u001b[0m eta \u001b[36m0:00:00\u001b[0m\n",
            "\u001b[?25hDownloading filetype-1.2.0-py2.py3-none-any.whl (19 kB)\n",
            "Downloading isodate-0.7.2-py3-none-any.whl (22 kB)\n",
            "Installing collected packages: filetype, isodate, azure-core, azure-storage-blob, langchain-google-genai\n",
            "Successfully installed azure-core-1.33.0 azure-storage-blob-12.25.1 filetype-1.2.0 isodate-0.7.2 langchain-google-genai-2.0.10\n"
          ]
        }
      ]
    },
    {
      "cell_type": "code",
      "source": [
        "import os\n",
        "import getpass\n",
        "\n",
        "os.environ[\"GOOGLE_API_KEY\"] = getpass.getpass(\"🔐 Enter your Gemini API Key: \")\n"
      ],
      "metadata": {
        "colab": {
          "base_uri": "https://localhost:8080/"
        },
        "id": "dhp05BRA2_z4",
        "outputId": "0ff3be80-cd9f-4609-a62b-fc18affb80c8"
      },
      "execution_count": null,
      "outputs": [
        {
          "name": "stdout",
          "output_type": "stream",
          "text": [
            "🔐 Enter your Gemini API Key: ··········\n"
          ]
        }
      ]
    },
    {
      "cell_type": "code",
      "source": [
        "from azure.storage.blob import BlobServiceClient\n",
        "import json\n",
        "\n",
        "AZURE_CONNECTION_STRING = \"\"\n",
        "CONTAINER_NAME = \"soap-notes\"\n",
        "\n",
        "blob_service_client = BlobServiceClient.from_connection_string(AZURE_CONNECTION_STRING)\n",
        "container_client = blob_service_client.get_container_client(CONTAINER_NAME)\n",
        "\n",
        "def get_patient_note(patient_id):\n",
        "    blob_name = f\"patient_{patient_id}.json\"\n",
        "    blob_client = container_client.get_blob_client(blob_name)\n",
        "    blob_data = blob_client.download_blob().readall()\n",
        "    return json.loads(blob_data)\n"
      ],
      "metadata": {
        "id": "mKS4Pdh22riV"
      },
      "execution_count": null,
      "outputs": []
    },
    {
      "cell_type": "code",
      "source": [
        "from langchain_google_genai import ChatGoogleGenerativeAI\n",
        "from langchain.prompts import PromptTemplate\n",
        "from langchain_core.output_parsers import StrOutputParser\n",
        "from langchain_core.runnables import RunnableSequence\n",
        "\n",
        "llm = ChatGoogleGenerativeAI(model=\"gemini-1.5-pro-001\", temperature=0.3)\n",
        "\n",
        "prompt = PromptTemplate.from_template(\"\"\"\n",
        "You are a medical assistant. Summarize the following patient SOAP note in 4-5 sentences:\n",
        "\n",
        "{note}\n",
        "\"\"\")\n",
        "\n",
        "# LangChain flow\n",
        "chain: RunnableSequence = prompt | llm | StrOutputParser()\n"
      ],
      "metadata": {
        "id": "WBkMMwfm3ESD"
      },
      "execution_count": null,
      "outputs": []
    },
    {
      "cell_type": "code",
      "source": [
        "note_text = json.dumps(note_json, indent=2)\n",
        "summary = chain.invoke({\"note\": note_text})\n",
        "\n",
        "print(\"Summary:\\n\", summary)\n"
      ],
      "metadata": {
        "colab": {
          "base_uri": "https://localhost:8080/"
        },
        "id": "CFuqWVkX3Lgs",
        "outputId": "575aed93-d066-495e-9d3a-cd09790333e7"
      },
      "execution_count": null,
      "outputs": [
        {
          "output_type": "stream",
          "name": "stdout",
          "text": [
            "Summary:\n",
            " A 45-year-old female patient presented with a chief complaint of shortness of breath and chest tightness for the past week, accompanied by cough, fatigue, and difficulty sleeping. Her medical history is significant for hypertension, diabetes, and osteoarthritis. Physical examination revealed normal vital signs and unremarkable findings. The primary diagnosis is pulmonary embolism, with differential diagnoses including pneumonia, COPD, asthma, and anaphylaxis. The plan includes arterial blood gas analysis, echocardiogram, CT angiography, anticoagulant therapy, bronchodilators, oxygen therapy, and a follow-up appointment with a pulmonologist in one week. \n"
          ]
        }
      ]
    },
    {
      "cell_type": "code",
      "source": [
        "from google.generativeai import GenerativeModel, list_models\n",
        "from google.generativeai import configure\n",
        "\n",
        "configure(api_key=os.environ[\"GOOGLE_API_KEY\"])\n",
        "models = list_models()\n",
        "for m in models:\n",
        "    print(m.name, \"-\", m.supported_generation_methods)\n"
      ],
      "metadata": {
        "colab": {
          "base_uri": "https://localhost:8080/",
          "height": 833
        },
        "id": "BVB-Z2Qh3XhO",
        "outputId": "e1f2a764-48dd-4850-e278-fcc17c9b1870"
      },
      "execution_count": null,
      "outputs": [
        {
          "output_type": "stream",
          "name": "stdout",
          "text": [
            "models/chat-bison-001 - ['generateMessage', 'countMessageTokens']\n",
            "models/text-bison-001 - ['generateText', 'countTextTokens', 'createTunedTextModel']\n",
            "models/embedding-gecko-001 - ['embedText', 'countTextTokens']\n",
            "models/gemini-1.0-pro-vision-latest - ['generateContent', 'countTokens']\n",
            "models/gemini-pro-vision - ['generateContent', 'countTokens']\n",
            "models/gemini-1.5-pro-latest - ['generateContent', 'countTokens']\n",
            "models/gemini-1.5-pro-001 - ['generateContent', 'countTokens', 'createCachedContent']\n",
            "models/gemini-1.5-pro-002 - ['generateContent', 'countTokens', 'createCachedContent']\n",
            "models/gemini-1.5-pro - ['generateContent', 'countTokens']\n",
            "models/gemini-1.5-flash-latest - ['generateContent', 'countTokens']\n",
            "models/gemini-1.5-flash-001 - ['generateContent', 'countTokens', 'createCachedContent']\n",
            "models/gemini-1.5-flash-001-tuning - ['generateContent', 'countTokens', 'createTunedModel']\n",
            "models/gemini-1.5-flash - ['generateContent', 'countTokens']\n",
            "models/gemini-1.5-flash-002 - ['generateContent', 'countTokens', 'createCachedContent']\n",
            "models/gemini-1.5-flash-8b - ['createCachedContent', 'generateContent', 'countTokens']\n",
            "models/gemini-1.5-flash-8b-001 - ['createCachedContent', 'generateContent', 'countTokens']\n",
            "models/gemini-1.5-flash-8b-latest - ['createCachedContent', 'generateContent', 'countTokens']\n",
            "models/gemini-1.5-flash-8b-exp-0827 - ['generateContent', 'countTokens']\n",
            "models/gemini-1.5-flash-8b-exp-0924 - ['generateContent', 'countTokens']\n",
            "models/gemini-2.5-pro-exp-03-25 - ['generateContent', 'countTokens', 'createCachedContent']\n",
            "models/gemini-2.5-pro-preview-03-25 - ['generateContent', 'countTokens', 'createCachedContent']\n",
            "models/gemini-2.0-flash-exp - ['generateContent', 'countTokens', 'bidiGenerateContent']\n",
            "models/gemini-2.0-flash - ['generateContent', 'countTokens', 'createCachedContent']\n",
            "models/gemini-2.0-flash-001 - ['generateContent', 'countTokens', 'createCachedContent']\n",
            "models/gemini-2.0-flash-exp-image-generation - ['generateContent', 'countTokens', 'bidiGenerateContent']\n",
            "models/gemini-2.0-flash-lite-001 - ['generateContent', 'countTokens']\n",
            "models/gemini-2.0-flash-lite - ['generateContent', 'countTokens']\n",
            "models/gemini-2.0-flash-lite-preview-02-05 - ['generateContent', 'countTokens']\n",
            "models/gemini-2.0-flash-lite-preview - ['generateContent', 'countTokens']\n",
            "models/gemini-2.0-pro-exp - ['generateContent', 'countTokens', 'createCachedContent']\n",
            "models/gemini-2.0-pro-exp-02-05 - ['generateContent', 'countTokens', 'createCachedContent']\n",
            "models/gemini-exp-1206 - ['generateContent', 'countTokens', 'createCachedContent']\n",
            "models/gemini-2.0-flash-thinking-exp-01-21 - ['generateContent', 'countTokens']\n",
            "models/gemini-2.0-flash-thinking-exp - ['generateContent', 'countTokens']\n",
            "models/gemini-2.0-flash-thinking-exp-1219 - ['generateContent', 'countTokens']\n",
            "models/learnlm-1.5-pro-experimental - ['generateContent', 'countTokens']\n",
            "models/gemma-3-1b-it - ['generateContent', 'countTokens']\n",
            "models/gemma-3-4b-it - ['generateContent', 'countTokens']\n",
            "models/gemma-3-12b-it - ['generateContent', 'countTokens']\n",
            "models/gemma-3-27b-it - ['generateContent', 'countTokens']\n",
            "models/embedding-001 - ['embedContent']\n",
            "models/text-embedding-004 - ['embedContent']\n",
            "models/gemini-embedding-exp-03-07 - ['embedContent', 'countTextTokens']\n",
            "models/gemini-embedding-exp - ['embedContent', 'countTextTokens']\n",
            "models/aqa - ['generateAnswer']\n",
            "models/imagen-3.0-generate-002 - ['predict']\n",
            "models/gemini-2.0-flash-live-001 - ['bidiGenerateContent', 'countTokens']\n"
          ]
        }
      ]
    },
    {
      "cell_type": "code",
      "source": [
        "# Install pyngrok if not already\n",
        "!pip install pyngrok flask\n",
        "\n",
        "from pyngrok import ngrok\n",
        "import subprocess\n",
        "import time\n",
        "\n",
        "# Open a tunnel to port 5000\n",
        "public_url = ngrok.connect(5000)\n",
        "print(\"🌍 Public URL:\", public_url)\n",
        "\n",
        "# Run the Flask app\n",
        "process = subprocess.Popen([\"python3\", \"/content/app.py\"])\n",
        "\n",
        "# Let it run in the background\n",
        "time.sleep(2)\n"
      ],
      "metadata": {
        "colab": {
          "base_uri": "https://localhost:8080/"
        },
        "id": "HtdLHqF46BgN",
        "outputId": "ee1c5234-5c6d-40fd-b37c-4699d3fb335b"
      },
      "execution_count": null,
      "outputs": [
        {
          "output_type": "stream",
          "name": "stdout",
          "text": [
            "Requirement already satisfied: pyngrok in /usr/local/lib/python3.11/dist-packages (7.2.4)\n",
            "Requirement already satisfied: flask in /usr/local/lib/python3.11/dist-packages (3.1.0)\n",
            "Requirement already satisfied: PyYAML>=5.1 in /usr/local/lib/python3.11/dist-packages (from pyngrok) (6.0.2)\n",
            "Requirement already satisfied: Werkzeug>=3.1 in /usr/local/lib/python3.11/dist-packages (from flask) (3.1.3)\n",
            "Requirement already satisfied: Jinja2>=3.1.2 in /usr/local/lib/python3.11/dist-packages (from flask) (3.1.6)\n",
            "Requirement already satisfied: itsdangerous>=2.2 in /usr/local/lib/python3.11/dist-packages (from flask) (2.2.0)\n",
            "Requirement already satisfied: click>=8.1.3 in /usr/local/lib/python3.11/dist-packages (from flask) (8.1.8)\n",
            "Requirement already satisfied: blinker>=1.9 in /usr/local/lib/python3.11/dist-packages (from flask) (1.9.0)\n",
            "Requirement already satisfied: MarkupSafe>=2.0 in /usr/local/lib/python3.11/dist-packages (from Jinja2>=3.1.2->flask) (3.0.2)\n",
            "🌍 Public URL: NgrokTunnel: \"https://39a0-34-139-76-126.ngrok-free.app\" -> \"http://localhost:5000\"\n"
          ]
        }
      ]
    },
    {
      "cell_type": "code",
      "source": [
        "from pyngrok import ngrok, conf\n",
        "import getpass\n",
        "\n",
        "# Paste your authtoken here when prompted\n",
        "authtoken = getpass.getpass(\"🔐 Enter your ngrok authtoken: \")\n",
        "conf.get_default().auth_token = authtoken\n"
      ],
      "metadata": {
        "colab": {
          "base_uri": "https://localhost:8080/"
        },
        "id": "MDvvmK-U7X7j",
        "outputId": "3481cedd-d4e0-4158-de19-85239b5c0987"
      },
      "execution_count": null,
      "outputs": [
        {
          "name": "stdout",
          "output_type": "stream",
          "text": [
            "🔐 Enter your ngrok authtoken: ··········\n"
          ]
        }
      ]
    },
    {
      "cell_type": "code",
      "source": [
        "public_url = ngrok.connect(5000)\n",
        "print(\"🌍 Public URL:\", public_url)\n"
      ],
      "metadata": {
        "colab": {
          "base_uri": "https://localhost:8080/"
        },
        "id": "IYyNnmAr7b1l",
        "outputId": "90ee9a4e-49d7-45dc-eb28-0e32be263b2b"
      },
      "execution_count": null,
      "outputs": [
        {
          "output_type": "stream",
          "name": "stdout",
          "text": [
            "🌍 Public URL: NgrokTunnel: \"https://409e-34-139-76-126.ngrok-free.app\" -> \"http://localhost:5000\"\n"
          ]
        }
      ]
    },
    {
      "cell_type": "code",
      "source": [
        "!pip install flask langchain langchain-google-genai azure-storage-blob\n"
      ],
      "metadata": {
        "id": "CSSHMof59AzQ"
      },
      "execution_count": null,
      "outputs": []
    },
    {
      "cell_type": "code",
      "source": [
        "import os\n",
        "os.environ[\"GOOGLE_API_KEY\"] = \"your-gemini-api-key\"\n"
      ],
      "metadata": {
        "id": "_1DfNgjr9B3U"
      },
      "execution_count": null,
      "outputs": []
    },
    {
      "cell_type": "code",
      "source": [
        "!python \"/content/app.py\"\n"
      ],
      "metadata": {
        "colab": {
          "base_uri": "https://localhost:8080/"
        },
        "id": "puq15n3k8ORM",
        "outputId": "e64ea89d-7318-4c71-8ebe-7cbf543a4b39"
      },
      "execution_count": null,
      "outputs": [
        {
          "output_type": "stream",
          "name": "stdout",
          "text": [
            " * Serving Flask app 'app'\n",
            " * Debug mode: on\n",
            "\u001b[31m\u001b[1mWARNING: This is a development server. Do not use it in a production deployment. Use a production WSGI server instead.\u001b[0m\n",
            " * Running on http://127.0.0.1:5000\n",
            "\u001b[33mPress CTRL+C to quit\u001b[0m\n",
            " * Restarting with stat\n",
            " * Debugger is active!\n",
            " * Debugger PIN: 640-689-267\n",
            "005\n",
            "^C\n"
          ]
        }
      ]
    },
    {
      "cell_type": "code",
      "source": [
        "from flask import Flask, request, jsonify\n",
        "import os\n",
        "import json\n",
        "import threading\n",
        "import getpass\n",
        "from azure.storage.blob import BlobServiceClient\n",
        "\n",
        "from langchain_google_genai import ChatGoogleGenerativeAI\n",
        "from langchain.prompts import PromptTemplate\n",
        "from langchain_core.output_parsers import StrOutputParser\n",
        "from langchain_core.runnables import RunnableSequence\n",
        "\n",
        "# 🛡 Prompt for setup inputs\n",
        "os.environ[\"GOOGLE_API_KEY\"] = getpass.getpass(\"🔐 Enter your Gemini API Key: \")\n",
        "AZURE_CONNECTION_STRING = getpass.getpass(\"🔐 Enter your Azure Blob connection string: \")\n",
        "CONTAINER_NAME = input(\"📦 Enter your Azure Blob container name (e.g., 'soap-notes'): \")\n",
        "\n",
        "# 🌩 Azure Blob Client\n",
        "blob_service_client = BlobServiceClient.from_connection_string(AZURE_CONNECTION_STRING)\n",
        "container_client = blob_service_client.get_container_client(CONTAINER_NAME)\n",
        "\n",
        "# 🤖 LangChain Chain with Gemini\n",
        "llm = ChatGoogleGenerativeAI(model=\"gemini-1.5-pro-001\", temperature=0.3)\n",
        "\n",
        "prompt = PromptTemplate.from_template(\"\"\"\n",
        "You are a medical assistant. Summarize the following patient SOAP note in 4-5 clear, professional sentences for a doctor to review:\n",
        "\n",
        "{note}\n",
        "\"\"\")\n",
        "\n",
        "summary_chain: RunnableSequence = prompt | llm | StrOutputParser()\n",
        "\n",
        "# ⚙️ Flask App Setup\n",
        "app = Flask(__name__)\n",
        "\n",
        "# 🧠 Read patient note from Azure\n",
        "def get_patient_note(patient_id):\n",
        "    try:\n",
        "        blob_name = f\"patient_{patient_id}.json\"\n",
        "        blob_client = container_client.get_blob_client(blob_name)\n",
        "        blob_data = blob_client.download_blob().readall()\n",
        "        return json.loads(blob_data)\n",
        "    except Exception as e:\n",
        "        raise FileNotFoundError(f\"Error loading patient_{patient_id}.json: {e}\")\n",
        "\n",
        "# 🧠 Generate Summary\n",
        "def generate_summary(note_json):\n",
        "    note_text = json.dumps(note_json, indent=2)\n",
        "    return summary_chain.invoke({\"note\": note_text})\n",
        "\n",
        "# 🌐 API Endpoint\n",
        "@app.route(\"/summarize\", methods=[\"GET\"])\n",
        "def summarize():\n",
        "    patient_id = request.args.get(\"patient_id\")\n",
        "    if not patient_id:\n",
        "        return jsonify({\"error\": \"Missing patient_id\"}), 400\n",
        "\n",
        "    try:\n",
        "        note = get_patient_note(patient_id)\n",
        "        summary = generate_summary(note)\n",
        "        return jsonify({\n",
        "            \"patient_id\": patient_id,\n",
        "            \"summary\": summary\n",
        "        })\n",
        "    except FileNotFoundError as e:\n",
        "        return jsonify({\"error\": str(e)}), 404\n",
        "    except Exception as e:\n",
        "        return jsonify({\"error\": f\"Unexpected error: {e}\"}), 500\n",
        "\n",
        "# 🚀 Run Flask App (with optional pyngrok support)\n",
        "def run_flask_app():\n",
        "    app.run(port=5000)\n",
        "\n",
        "thread = threading.Thread(target=run_flask_app)\n",
        "thread.start()\n"
      ],
      "metadata": {
        "colab": {
          "base_uri": "https://localhost:8080/"
        },
        "id": "SsvUaX7Z8WzZ",
        "outputId": "1986b9dd-dfc9-4e4d-e547-f81568cb85b6"
      },
      "execution_count": null,
      "outputs": [
        {
          "output_type": "stream",
          "name": "stdout",
          "text": [
            "🔐 Enter your Gemini API Key: ··········\n",
            "🔐 Enter your Azure Blob connection string: ··········\n",
            "📦 Enter your Azure Blob container name (e.g., 'soap-notes'): soap-notes\n",
            " * Serving Flask app '__main__'\n",
            " * Debug mode: off\n"
          ]
        },
        {
          "output_type": "stream",
          "name": "stderr",
          "text": [
            "INFO:werkzeug:\u001b[31m\u001b[1mWARNING: This is a development server. Do not use it in a production deployment. Use a production WSGI server instead.\u001b[0m\n",
            " * Running on http://127.0.0.1:5000\n",
            "INFO:werkzeug:\u001b[33mPress CTRL+C to quit\u001b[0m\n"
          ]
        }
      ]
    },
    {
      "cell_type": "code",
      "source": [
        "import requests\n",
        "\n",
        "patient_id = input(\"🧑‍⚕️ Enter the patient ID (e.g., '002'): \")\n",
        "\n",
        "response = requests.get(\"http://localhost:5000/summarize\", params={\"patient_id\": patient_id})\n",
        "print(\"📋 Summary Response:\")\n",
        "print(response.json())\n"
      ],
      "metadata": {
        "colab": {
          "base_uri": "https://localhost:8080/"
        },
        "id": "FpFbQVSe-JwX",
        "outputId": "997ead86-8451-4f12-8f5d-1faf17a42e17"
      },
      "execution_count": null,
      "outputs": [
        {
          "name": "stdout",
          "output_type": "stream",
          "text": [
            "🧑‍⚕️ Enter the patient ID (e.g., '002'): 004\n"
          ]
        },
        {
          "output_type": "stream",
          "name": "stderr",
          "text": [
            "INFO:werkzeug:127.0.0.1 - - [16/Apr/2025 23:39:25] \"GET /summarize?patient_id=004 HTTP/1.1\" 200 -\n"
          ]
        },
        {
          "output_type": "stream",
          "name": "stdout",
          "text": [
            "📋 Summary Response:\n",
            "{'patient_id': '004', 'summary': 'This 55-year-old female patient presents with a chief complaint of chronic cough and shortness of breath, accompanied by wheezing and chest tightness, for several months. Her medical history is significant for hypertension and asthma, with a family history of asthma in her mother. Physical examination reveals wheezing breath sounds bilaterally and tenderness in the right upper quadrant upon deep palpation.  The primary diagnosis is asthma exacerbation with bronchitis, with differentials including COPD, lung cancer, and pneumonia.  The plan is to order spirometry, a chest x-ray, and bloodwork, and to start the patient on bronchodilators, corticosteroids, and long-acting bronchodilators.  A follow-up appointment in one week and a referral to pulmonology will be arranged. '}\n"
          ]
        }
      ]
    },
    {
      "cell_type": "code",
      "source": [
        "!pip install pyngrok"
      ],
      "metadata": {
        "colab": {
          "base_uri": "https://localhost:8080/"
        },
        "id": "7vM3utsh-Nok",
        "outputId": "7ce9bb5b-fca6-46ef-8d46-b5b5598bf4e4"
      },
      "execution_count": null,
      "outputs": [
        {
          "output_type": "stream",
          "name": "stdout",
          "text": [
            "Requirement already satisfied: pyngrok in /usr/local/lib/python3.11/dist-packages (7.2.4)\n",
            "Requirement already satisfied: PyYAML>=5.1 in /usr/local/lib/python3.11/dist-packages (from pyngrok) (6.0.2)\n"
          ]
        }
      ]
    },
    {
      "cell_type": "code",
      "source": [
        "\n",
        "from pyngrok import ngrok\n",
        "ngrok.set_auth_token(getpass.getpass(\"🔐 Enter your ngrok auth token: \"))\n",
        "public_url = ngrok.connect(5000)\n",
        "print(\"🌍 Public Flask URL:\", public_url)\n"
      ],
      "metadata": {
        "colab": {
          "base_uri": "https://localhost:8080/"
        },
        "id": "poSxwhMX-M7z",
        "outputId": "65b13707-db64-4aec-a93c-29ba58e9d157"
      },
      "execution_count": null,
      "outputs": [
        {
          "output_type": "stream",
          "name": "stdout",
          "text": [
            "🔐 Enter your ngrok auth token: ··········\n",
            "🌍 Public Flask URL: NgrokTunnel: \"https://f538-34-139-76-126.ngrok-free.app\" -> \"http://localhost:5000\"\n"
          ]
        }
      ]
    }
  ]
}