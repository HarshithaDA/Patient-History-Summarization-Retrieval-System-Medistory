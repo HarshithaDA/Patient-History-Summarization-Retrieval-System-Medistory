{
  "nbformat": 4,
  "nbformat_minor": 0,
  "metadata": {
    "colab": {
      "provenance": []
    },
    "kernelspec": {
      "name": "python3",
      "display_name": "Python 3"
    },
    "language_info": {
      "name": "python"
    }
  },
  "cells": [
    {
      "cell_type": "code",
      "execution_count": null,
      "metadata": {
        "colab": {
          "base_uri": "https://localhost:8080/"
        },
        "id": "qmdWVShQlWSq",
        "outputId": "6cdc7e86-c115-46fd-e89c-d220e8d47558"
      },
      "outputs": [
        {
          "output_type": "stream",
          "name": "stdout",
          "text": [
            "Collecting azure-storage-blob\n",
            "  Downloading azure_storage_blob-12.25.1-py3-none-any.whl.metadata (26 kB)\n",
            "Collecting azure-core>=1.30.0 (from azure-storage-blob)\n",
            "  Downloading azure_core-1.33.0-py3-none-any.whl.metadata (42 kB)\n",
            "\u001b[2K     \u001b[90m━━━━━━━━━━━━━━━━━━━━━━━━━━━━━━━━━━━━━━━━\u001b[0m \u001b[32m42.6/42.6 kB\u001b[0m \u001b[31m1.8 MB/s\u001b[0m eta \u001b[36m0:00:00\u001b[0m\n",
            "\u001b[?25hRequirement already satisfied: cryptography>=2.1.4 in /usr/local/lib/python3.11/dist-packages (from azure-storage-blob) (43.0.3)\n",
            "Requirement already satisfied: typing-extensions>=4.6.0 in /usr/local/lib/python3.11/dist-packages (from azure-storage-blob) (4.13.1)\n",
            "\u001b[33mWARNING: Retrying (Retry(total=4, connect=None, read=None, redirect=None, status=None)) after connection broken by 'ProtocolError('Connection aborted.', RemoteDisconnected('Remote end closed connection without response'))': /simple/isodate/\u001b[0m\u001b[33m\n",
            "\u001b[0mCollecting isodate>=0.6.1 (from azure-storage-blob)\n",
            "  Downloading isodate-0.7.2-py3-none-any.whl.metadata (11 kB)\n",
            "Requirement already satisfied: requests>=2.21.0 in /usr/local/lib/python3.11/dist-packages (from azure-core>=1.30.0->azure-storage-blob) (2.32.3)\n",
            "Requirement already satisfied: six>=1.11.0 in /usr/local/lib/python3.11/dist-packages (from azure-core>=1.30.0->azure-storage-blob) (1.17.0)\n",
            "Requirement already satisfied: cffi>=1.12 in /usr/local/lib/python3.11/dist-packages (from cryptography>=2.1.4->azure-storage-blob) (1.17.1)\n",
            "Requirement already satisfied: pycparser in /usr/local/lib/python3.11/dist-packages (from cffi>=1.12->cryptography>=2.1.4->azure-storage-blob) (2.22)\n",
            "Requirement already satisfied: charset-normalizer<4,>=2 in /usr/local/lib/python3.11/dist-packages (from requests>=2.21.0->azure-core>=1.30.0->azure-storage-blob) (3.4.1)\n",
            "Requirement already satisfied: idna<4,>=2.5 in /usr/local/lib/python3.11/dist-packages (from requests>=2.21.0->azure-core>=1.30.0->azure-storage-blob) (3.10)\n",
            "Requirement already satisfied: urllib3<3,>=1.21.1 in /usr/local/lib/python3.11/dist-packages (from requests>=2.21.0->azure-core>=1.30.0->azure-storage-blob) (2.3.0)\n",
            "Requirement already satisfied: certifi>=2017.4.17 in /usr/local/lib/python3.11/dist-packages (from requests>=2.21.0->azure-core>=1.30.0->azure-storage-blob) (2025.1.31)\n",
            "Downloading azure_storage_blob-12.25.1-py3-none-any.whl (406 kB)\n",
            "\u001b[2K   \u001b[90m━━━━━━━━━━━━━━━━━━━━━━━━━━━━━━━━━━━━━━━━\u001b[0m \u001b[32m407.0/407.0 kB\u001b[0m \u001b[31m9.3 MB/s\u001b[0m eta \u001b[36m0:00:00\u001b[0m\n",
            "\u001b[?25hDownloading azure_core-1.33.0-py3-none-any.whl (207 kB)\n",
            "\u001b[2K   \u001b[90m━━━━━━━━━━━━━━━━━━━━━━━━━━━━━━━━━━━━━━━━\u001b[0m \u001b[32m207.1/207.1 kB\u001b[0m \u001b[31m15.7 MB/s\u001b[0m eta \u001b[36m0:00:00\u001b[0m\n",
            "\u001b[?25hDownloading isodate-0.7.2-py3-none-any.whl (22 kB)\n",
            "Installing collected packages: isodate, azure-core, azure-storage-blob\n",
            "Successfully installed azure-core-1.33.0 azure-storage-blob-12.25.1 isodate-0.7.2\n"
          ]
        }
      ],
      "source": [
        "!pip install azure-storage-blob\n"
      ]
    },
    {
      "cell_type": "code",
      "source": [
        "import os\n",
        "import json\n",
        "from azure.storage.blob import BlobServiceClient, ContentSettings\n",
        "\n",
        "# Set Azure connection string and container name\n",
        "AZURE_CONNECTION_STRING = \"\"\n",
        "CONTAINER_NAME = \"soap-notes\"\n",
        "\n",
        "# Initialize Blob service and container client\n",
        "blob_service_client = BlobServiceClient.from_connection_string(AZURE_CONNECTION_STRING)\n",
        "container_client = blob_service_client.get_container_client(CONTAINER_NAME)\n",
        "\n",
        "# Function to upload patient SOAP notes with assigned IDs\n",
        "def upload_json_with_patient_ids(local_folder_path):\n",
        "    try:\n",
        "        # Get all JSON files in the folder, sorted alphabetically\n",
        "        json_files = sorted([f for f in os.listdir(local_folder_path) if f.endswith(\".json\")])\n",
        "\n",
        "        for i, filename in enumerate(json_files):\n",
        "            local_path = os.path.join(local_folder_path, filename)\n",
        "            patient_id = f\"{i+1:03}\"  # e.g., '001', '002', '003', ...\n",
        "\n",
        "            # Read and load the original JSON content\n",
        "            with open(local_path, \"r\") as f:\n",
        "                json_data = json.load(f)\n",
        "\n",
        "            # Inject patientId field\n",
        "            json_data[\"patientId\"] = patient_id\n",
        "\n",
        "            # Convert JSON back to a string for upload\n",
        "            updated_json_str = json.dumps(json_data, indent=2)\n",
        "\n",
        "            # Construct blob filename (e.g., patient_001.json)\n",
        "            blob_name = f\"patient_{patient_id}.json\"\n",
        "            blob_client = container_client.get_blob_client(blob=blob_name)\n",
        "\n",
        "            # Upload the modified content\n",
        "            blob_client.upload_blob(\n",
        "                updated_json_str,\n",
        "                overwrite=True,\n",
        "                content_settings=ContentSettings(content_type=\"application/json\")\n",
        "            )\n",
        "\n",
        "            print(f\"✅ Uploaded: {blob_name} with patientId: {patient_id}\")\n",
        "\n",
        "    except Exception as e:\n",
        "        print(f\"❌ Error: {e}\")\n"
      ],
      "metadata": {
        "id": "sgCzfQbSo1ln"
      },
      "execution_count": null,
      "outputs": []
    },
    {
      "cell_type": "code",
      "source": [
        "upload_json_with_patient_ids(\"/content/soap-jsons\")\n"
      ],
      "metadata": {
        "colab": {
          "base_uri": "https://localhost:8080/"
        },
        "id": "lCuRWuZ0pM0x",
        "outputId": "c11409c6-6c54-40e7-d020-1f46d9333ded"
      },
      "execution_count": null,
      "outputs": [
        {
          "output_type": "stream",
          "name": "stdout",
          "text": [
            "✅ Uploaded: patient_001.json with patientId: 001\n",
            "✅ Uploaded: patient_002.json with patientId: 002\n",
            "✅ Uploaded: patient_003.json with patientId: 003\n",
            "✅ Uploaded: patient_004.json with patientId: 004\n",
            "✅ Uploaded: patient_005.json with patientId: 005\n",
            "✅ Uploaded: patient_006.json with patientId: 006\n",
            "✅ Uploaded: patient_007.json with patientId: 007\n",
            "✅ Uploaded: patient_008.json with patientId: 008\n",
            "✅ Uploaded: patient_009.json with patientId: 009\n",
            "✅ Uploaded: patient_010.json with patientId: 010\n",
            "✅ Uploaded: patient_011.json with patientId: 011\n",
            "✅ Uploaded: patient_012.json with patientId: 012\n",
            "✅ Uploaded: patient_013.json with patientId: 013\n",
            "✅ Uploaded: patient_014.json with patientId: 014\n",
            "✅ Uploaded: patient_015.json with patientId: 015\n"
          ]
        }
      ]
    },
    {
      "cell_type": "code",
      "source": [
        "def verify_uploaded_patient_blob(patient_id):\n",
        "    try:\n",
        "        blob_name = f\"patient_{patient_id}.json\"  # e.g., 'patient_001.json'\n",
        "        blob_client = container_client.get_blob_client(blob=blob_name)\n",
        "\n",
        "        # Download blob content\n",
        "        blob_data = blob_client.download_blob().readall()\n",
        "        json_data = json.loads(blob_data)\n",
        "\n",
        "        print(f\"\\n✅ Contents of '{blob_name}':\")\n",
        "        print(json.dumps(json_data, indent=2))\n",
        "\n",
        "    except Exception as e:\n",
        "        print(f\"❌ Error reading blob {blob_name}: {e}\")\n"
      ],
      "metadata": {
        "id": "31gBjTamqre5"
      },
      "execution_count": null,
      "outputs": []
    },
    {
      "cell_type": "code",
      "source": [
        "# Check contents of patient_001.json\n",
        "verify_uploaded_patient_blob(\"001\")"
      ],
      "metadata": {
        "colab": {
          "base_uri": "https://localhost:8080/"
        },
        "id": "uT26UpPYqumQ",
        "outputId": "f71a5761-92dd-4f21-d786-fac436c66d38"
      },
      "execution_count": null,
      "outputs": [
        {
          "output_type": "stream",
          "name": "stdout",
          "text": [
            "\n",
            "✅ Contents of 'patient_001.json':\n",
            "{\n",
            "  \"Patient demographics\": {\n",
            "    \"Age\": 35,\n",
            "    \"Gender\": \"Female\",\n",
            "    \"Ethnicity\": \"Caucasian\",\n",
            "    \"Occupation\": \"Teacher\",\n",
            "    \"Education\": \"Bachelor's degree\",\n",
            "    \"Marital status\": \"Married\"\n",
            "  },\n",
            "  \"Chief complaint\": {\n",
            "    \"Description of the chief complaint\": \"Abdominal pain and bloating\",\n",
            "    \"Duration of symptoms\": \"2 days\",\n",
            "    \"Associated symptoms\": \"Nausea, vomiting, and diarrhea\"\n",
            "  },\n",
            "  \"Relevant past medical history\": {\n",
            "    \"Allergies\": \"None\",\n",
            "    \"Medical conditions\": [\n",
            "      \"Hypertension\",\n",
            "      \"Osteoarthritis\"\n",
            "    ],\n",
            "    \"Previous hospitalizations\": \"None\",\n",
            "    \"Surgeries\": \"None\",\n",
            "    \"Family history of significant diseases\": \"None\"\n",
            "  },\n",
            "  \"Social history\": {\n",
            "    \"Smoking status\": \"Non-smoker\",\n",
            "    \"Alcohol consumption\": \"Moderate\",\n",
            "    \"Recreational drug use\": \"None\",\n",
            "    \"Family history of lung disease or other relevant conditions\": \"None\",\n",
            "    \"Travel history\": \"None\"\n",
            "  },\n",
            "  \"Review of systems\": \"The patient reports a history of abdominal pain and bloating for the past two days. She also reports nausea, vomiting, and diarrhea. She denies any history of fever or chills. She has a history of hypertension and osteoarthritis but no other significant medical conditions. She is not allergic to any medications or foods. She has had no previous hospitalizations or surgeries. There is no family history of significant diseases.\",\n",
            "  \"Vital signs\": {\n",
            "    \"Temperature\": \"98.6\\u00b0F\",\n",
            "    \"Blood Pressure\": \"120/80 mmHg\",\n",
            "    \"Heart rate\": \"90 bpm\",\n",
            "    \"Oxygen saturation\": \"98%\",\n",
            "    \"Respiratory rate\": \"18 breaths per minute\"\n",
            "  },\n",
            "  \"Physical exam findings\": {\n",
            "    \"Appearance\": \"The patient is well-groomed and oriented.\",\n",
            "    \"Mental status\": \"The patient is alert and confused.\",\n",
            "    \"Gait\": \"The patient's gait is normal.\",\n",
            "    \"Tone\": \"The patient's tone is normal.\",\n",
            "    \"Jaundice\": \"None\",\n",
            "    \"Erythema\": \"None\",\n",
            "    \"Edema\": \"None\",\n",
            "    \"Auscultation\": \"Breath sounds are clear and vesicular. Heart sounds are regular and rhythmic.\",\n",
            "    \"Abdominal exam\": \"There is tenderness to palpation in the right upper quadrant of the abdomen. There is no guarding.\"\n",
            "  },\n",
            "  \"Assessment\": {\n",
            "    \"Primary diagnosis\": \"Gastroenteritis\",\n",
            "    \"Differential diagnoses\": [\n",
            "      \"Cholecystitis\",\n",
            "      \"Pancreatitis\",\n",
            "      \"Gallstones\"\n",
            "    ]\n",
            "  },\n",
            "  \"Plan\": {\n",
            "    \"Tests\": [\n",
            "      \"Complete blood count\",\n",
            "      \"C-reactive protein\",\n",
            "      \"Liver function tests\",\n",
            "      \"Urinalysis\",\n",
            "      \"Abdominal ultrasound\"\n",
            "    ],\n",
            "    \"Medications\": [\n",
            "      \"Antibiotics for gastroenteritis\",\n",
            "      \"Analgesics for pain\"\n",
            "    ],\n",
            "    \"Follow-up\": \"Schedule a follow-up appointment in one week. Refer to a gastroenterologist for further evaluation.\"\n",
            "  },\n",
            "  \"patientId\": \"001\"\n",
            "}\n"
          ]
        }
      ]
    },
    {
      "cell_type": "markdown",
      "source": [
        "Function to Read All JSON Files from Azure Blob Storage\n",
        "\n"
      ],
      "metadata": {
        "id": "GCuB0iUzrY2j"
      }
    },
    {
      "cell_type": "code",
      "source": [
        "def read_all_soap_notes():\n",
        "    soap_notes = []\n",
        "\n",
        "    try:\n",
        "        print(f\"Reading all JSON files from container '{CONTAINER_NAME}'...\")\n",
        "\n",
        "        # List blobs in container\n",
        "        for blob in container_client.list_blobs():\n",
        "            if blob.name.endswith(\".json\"):\n",
        "                blob_client = container_client.get_blob_client(blob)\n",
        "\n",
        "                # Download and decode the JSON\n",
        "                blob_data = blob_client.download_blob().readall()\n",
        "                note = json.loads(blob_data)\n",
        "                soap_notes.append(note)\n",
        "\n",
        "                print(f\"✅ Loaded: {blob.name}\")\n",
        "\n",
        "    except Exception as e:\n",
        "        print(f\"Error reading from Azure Blob Storage: {e}\")\n",
        "\n",
        "    return soap_notes"
      ],
      "metadata": {
        "id": "Pj_q_qcSqpT-"
      },
      "execution_count": null,
      "outputs": []
    },
    {
      "cell_type": "code",
      "source": [
        "all_notes = read_all_soap_notes()\n",
        "\n",
        "print(f\"\\n📄 Total notes retrieved: {len(all_notes)}\")\n",
        "if all_notes:\n",
        "    print(json.dumps(all_notes[0], indent=2))  # Preview the first one\n"
      ],
      "metadata": {
        "colab": {
          "base_uri": "https://localhost:8080/"
        },
        "id": "5S5cbEX_rRPc",
        "outputId": "57ed43a8-5ee7-47a5-d91e-b010dd4e1e24"
      },
      "execution_count": null,
      "outputs": [
        {
          "output_type": "stream",
          "name": "stdout",
          "text": [
            "Reading all JSON files from container 'soap-notes'...\n",
            "✅ Loaded: patient_001.json\n",
            "✅ Loaded: patient_002.json\n",
            "✅ Loaded: patient_003.json\n",
            "✅ Loaded: patient_004.json\n",
            "✅ Loaded: patient_005.json\n",
            "✅ Loaded: patient_006.json\n",
            "✅ Loaded: patient_007.json\n",
            "✅ Loaded: patient_008.json\n",
            "✅ Loaded: patient_009.json\n",
            "✅ Loaded: patient_010.json\n",
            "✅ Loaded: patient_011.json\n",
            "✅ Loaded: patient_012.json\n",
            "✅ Loaded: patient_013.json\n",
            "✅ Loaded: patient_014.json\n",
            "✅ Loaded: patient_015.json\n",
            "\n",
            "📄 Total notes retrieved: 15\n",
            "{\n",
            "  \"Patient demographics\": {\n",
            "    \"Age\": 35,\n",
            "    \"Gender\": \"Female\",\n",
            "    \"Ethnicity\": \"Caucasian\",\n",
            "    \"Occupation\": \"Teacher\",\n",
            "    \"Education\": \"Bachelor's degree\",\n",
            "    \"Marital status\": \"Married\"\n",
            "  },\n",
            "  \"Chief complaint\": {\n",
            "    \"Description of the chief complaint\": \"Abdominal pain and bloating\",\n",
            "    \"Duration of symptoms\": \"2 days\",\n",
            "    \"Associated symptoms\": \"Nausea, vomiting, and diarrhea\"\n",
            "  },\n",
            "  \"Relevant past medical history\": {\n",
            "    \"Allergies\": \"None\",\n",
            "    \"Medical conditions\": [\n",
            "      \"Hypertension\",\n",
            "      \"Osteoarthritis\"\n",
            "    ],\n",
            "    \"Previous hospitalizations\": \"None\",\n",
            "    \"Surgeries\": \"None\",\n",
            "    \"Family history of significant diseases\": \"None\"\n",
            "  },\n",
            "  \"Social history\": {\n",
            "    \"Smoking status\": \"Non-smoker\",\n",
            "    \"Alcohol consumption\": \"Moderate\",\n",
            "    \"Recreational drug use\": \"None\",\n",
            "    \"Family history of lung disease or other relevant conditions\": \"None\",\n",
            "    \"Travel history\": \"None\"\n",
            "  },\n",
            "  \"Review of systems\": \"The patient reports a history of abdominal pain and bloating for the past two days. She also reports nausea, vomiting, and diarrhea. She denies any history of fever or chills. She has a history of hypertension and osteoarthritis but no other significant medical conditions. She is not allergic to any medications or foods. She has had no previous hospitalizations or surgeries. There is no family history of significant diseases.\",\n",
            "  \"Vital signs\": {\n",
            "    \"Temperature\": \"98.6\\u00b0F\",\n",
            "    \"Blood Pressure\": \"120/80 mmHg\",\n",
            "    \"Heart rate\": \"90 bpm\",\n",
            "    \"Oxygen saturation\": \"98%\",\n",
            "    \"Respiratory rate\": \"18 breaths per minute\"\n",
            "  },\n",
            "  \"Physical exam findings\": {\n",
            "    \"Appearance\": \"The patient is well-groomed and oriented.\",\n",
            "    \"Mental status\": \"The patient is alert and confused.\",\n",
            "    \"Gait\": \"The patient's gait is normal.\",\n",
            "    \"Tone\": \"The patient's tone is normal.\",\n",
            "    \"Jaundice\": \"None\",\n",
            "    \"Erythema\": \"None\",\n",
            "    \"Edema\": \"None\",\n",
            "    \"Auscultation\": \"Breath sounds are clear and vesicular. Heart sounds are regular and rhythmic.\",\n",
            "    \"Abdominal exam\": \"There is tenderness to palpation in the right upper quadrant of the abdomen. There is no guarding.\"\n",
            "  },\n",
            "  \"Assessment\": {\n",
            "    \"Primary diagnosis\": \"Gastroenteritis\",\n",
            "    \"Differential diagnoses\": [\n",
            "      \"Cholecystitis\",\n",
            "      \"Pancreatitis\",\n",
            "      \"Gallstones\"\n",
            "    ]\n",
            "  },\n",
            "  \"Plan\": {\n",
            "    \"Tests\": [\n",
            "      \"Complete blood count\",\n",
            "      \"C-reactive protein\",\n",
            "      \"Liver function tests\",\n",
            "      \"Urinalysis\",\n",
            "      \"Abdominal ultrasound\"\n",
            "    ],\n",
            "    \"Medications\": [\n",
            "      \"Antibiotics for gastroenteritis\",\n",
            "      \"Analgesics for pain\"\n",
            "    ],\n",
            "    \"Follow-up\": \"Schedule a follow-up appointment in one week. Refer to a gastroenterologist for further evaluation.\"\n",
            "  },\n",
            "  \"patientId\": \"001\"\n",
            "}\n"
          ]
        }
      ]
    },
    {
      "cell_type": "markdown",
      "source": [
        "Read a Single File by Name"
      ],
      "metadata": {
        "id": "8k0lBa1vrWNJ"
      }
    },
    {
      "cell_type": "code",
      "source": [
        "def read_soap_note_by_filename(blob_name):\n",
        "    try:\n",
        "        blob_client = container_client.get_blob_client(blob_name)\n",
        "        blob_data = blob_client.download_blob().readall()\n",
        "        return json.loads(blob_data)\n",
        "\n",
        "    except Exception as e:\n",
        "        print(f\"❌ Error: {e}\")\n",
        "        return None\n"
      ],
      "metadata": {
        "id": "0t-sFWnirUl8"
      },
      "execution_count": null,
      "outputs": []
    },
    {
      "cell_type": "code",
      "source": [
        "note = read_soap_note_by_filename(\"patient_002.json\")\n",
        "print(json.dumps(note, indent=2))\n"
      ],
      "metadata": {
        "colab": {
          "base_uri": "https://localhost:8080/"
        },
        "id": "biVKSw82reOS",
        "outputId": "784258a4-0901-40bb-938c-1aa5ff1d04fe"
      },
      "execution_count": null,
      "outputs": [
        {
          "output_type": "stream",
          "name": "stdout",
          "text": [
            "{\n",
            "  \"Patient demographics\": {\n",
            "    \"Age\": 45,\n",
            "    \"Gender\": \"Female\",\n",
            "    \"Ethnicity\": \"Caucasian\",\n",
            "    \"Occupation\": \"Teacher\",\n",
            "    \"Education\": \"Bachelor's degree\",\n",
            "    \"Marital status\": \"Married\"\n",
            "  },\n",
            "  \"Chief complaint\": {\n",
            "    \"Description of the chief complaint\": \"Shortness of breath and chest tightness\",\n",
            "    \"Duration of symptoms\": \"1 week\",\n",
            "    \"Associated symptoms\": \"Cough, fatigue, difficulty sleeping\"\n",
            "  },\n",
            "  \"Relevant past medical history\": {\n",
            "    \"Allergies\": \"None\",\n",
            "    \"Medical conditions\": [\n",
            "      \"Hypertension\",\n",
            "      \"Diabetes\",\n",
            "      \"Osteoarthritis\"\n",
            "    ],\n",
            "    \"Previous hospitalizations\": \"None\",\n",
            "    \"Surgeries\": \"None\",\n",
            "    \"Family history of significant diseases\": \"None\"\n",
            "  },\n",
            "  \"Social history\": {\n",
            "    \"Smoking status\": \"Non-smoker\",\n",
            "    \"Alcohol consumption\": \"Moderate\",\n",
            "    \"Recreational drug use\": \"None\",\n",
            "    \"Family history of lung disease or other relevant conditions\": \"None\",\n",
            "    \"Travel history\": \"None\"\n",
            "  },\n",
            "  \"Review of systems\": \"Patient reports a history of hypertension and diabetes, with well-controlled blood sugar levels. She denies any recent changes in her medication regimen. She reports a history of osteoarthritis in her knees, which she manages with physical therapy and nonsteroidal anti-inflammatory drugs (NSAIDs). She denies any recent falls or injuries. She reports a history of allergies to penicillin and cephalosporins, for which she carries an emergency epinephrine autoinjector. She denies any recent changes in her diet or exercise routine. She reports a history of snoring and sleep apnea, for which she uses a continuous positive airway pressure (CPAP) machine. She denies any recent changes in her mood or mental status.\",\n",
            "  \"Vital signs\": {\n",
            "    \"Temperature\": \"98.6\\u00b0F\",\n",
            "    \"Blood Pressure\": \"120/80 mmHg\",\n",
            "    \"Heart rate\": \"90 beats per minute\",\n",
            "    \"Oxygen saturation\": \"95%\",\n",
            "    \"Respiratory rate\": \"20 breaths per minute\"\n",
            "  },\n",
            "  \"Physical exam findings\": {\n",
            "    \"Appearance\": \"Well-groomed and oriented\",\n",
            "    \"Mental status\": \"Alert and oriented\",\n",
            "    \"Gait\": \"Normal\",\n",
            "    \"Tone\": \"Normal\",\n",
            "    \"Jaundice\": \"None\",\n",
            "    \"Erythema\": \"None\",\n",
            "    \"Edema\": \"None\",\n",
            "    \"Auscultation\": \"Normal breath sounds and heart sounds\",\n",
            "    \"Abdominal exam\": \"Non-tender and non-guarding\"\n",
            "  },\n",
            "  \"Assessment\": {\n",
            "    \"Primary diagnosis\": \"Pulmonary Embolism\",\n",
            "    \"Differential diagnoses\": [\n",
            "      \"Pneumonia\",\n",
            "      \"Chronic Obstructive Pulmonary Disease (COPD)\",\n",
            "      \"Asthma\",\n",
            "      \"Anaphylaxis\"\n",
            "    ]\n",
            "  },\n",
            "  \"Plan\": {\n",
            "    \"Tests\": [\n",
            "      \"Arterial blood gas analysis\",\n",
            "      \"Echocardiogram\",\n",
            "      \"CT angiography\"\n",
            "    ],\n",
            "    \"Medications\": [\n",
            "      \"Anticoagulant therapy\",\n",
            "      \"Bronchodilators\",\n",
            "      \"Oxygen therapy\"\n",
            "    ],\n",
            "    \"Follow-up\": \"Schedule follow-up appointment with pulmonologist in 1 week\"\n",
            "  },\n",
            "  \"patientId\": \"002\"\n",
            "}\n"
          ]
        }
      ]
    },
    {
      "cell_type": "markdown",
      "source": [
        "Single function"
      ],
      "metadata": {
        "id": "lp6dvrQuxxa5"
      }
    },
    {
      "cell_type": "code",
      "source": [
        "import os\n",
        "import json\n",
        "from azure.storage.blob import BlobServiceClient, ContentSettings\n",
        "\n",
        "# Set Azure connection string and container name\n",
        "AZURE_CONNECTION_STRING = \"\"\n",
        "CONTAINER_NAME = \"soap-notes\"\n",
        "\n",
        "# Initialize Azure blob clients\n",
        "blob_service_client = BlobServiceClient.from_connection_string(AZURE_CONNECTION_STRING)\n",
        "container_client = blob_service_client.get_container_client(CONTAINER_NAME)\n",
        "\n",
        "def handle_blob_operations(mode, local_folder_path=None, patient_id=None, blob_filename=None):\n",
        "    try:\n",
        "        if mode == \"upload\":\n",
        "            if not local_folder_path:\n",
        "                print(\"❗ Please provide a local folder path.\")\n",
        "                return\n",
        "            json_files = sorted([f for f in os.listdir(local_folder_path) if f.endswith(\".json\")])\n",
        "            for i, filename in enumerate(json_files):\n",
        "                patient_id = f\"{i+1:03}\"\n",
        "                local_path = os.path.join(local_folder_path, filename)\n",
        "                with open(local_path, \"r\") as f:\n",
        "                    json_data = json.load(f)\n",
        "                json_data[\"patientId\"] = patient_id\n",
        "                updated_json_str = json.dumps(json_data, indent=2)\n",
        "                blob_name = f\"patient_{patient_id}.json\"\n",
        "                blob_client = container_client.get_blob_client(blob_name)\n",
        "                blob_client.upload_blob(\n",
        "                    updated_json_str,\n",
        "                    overwrite=True,\n",
        "                    content_settings=ContentSettings(content_type=\"application/json\")\n",
        "                )\n",
        "                print(f\"✅ Uploaded: {blob_name} with patientId: {patient_id}\")\n",
        "\n",
        "        elif mode == \"verify\":\n",
        "            if not patient_id:\n",
        "                print(\"❗ Please provide a patient ID to verify.\")\n",
        "                return\n",
        "            blob_name = f\"patient_{patient_id}.json\"\n",
        "            blob_client = container_client.get_blob_client(blob_name)\n",
        "            blob_data = blob_client.download_blob().readall()\n",
        "            json_data = json.loads(blob_data)\n",
        "            print(f\"\\n✅ Contents of '{blob_name}':\")\n",
        "            print(json.dumps(json_data, indent=2))\n",
        "\n",
        "        elif mode == \"read_all\":\n",
        "            soap_notes = []\n",
        "            print(f\"\\n📁 Reading all JSON files from container '{CONTAINER_NAME}'...\")\n",
        "            for blob in container_client.list_blobs():\n",
        "                if blob.name.endswith(\".json\"):\n",
        "                    blob_client = container_client.get_blob_client(blob)\n",
        "                    blob_data = blob_client.download_blob().readall()\n",
        "                    note = json.loads(blob_data)\n",
        "                    soap_notes.append(note)\n",
        "                    print(f\"✅ Loaded: {blob.name}\")\n",
        "            print(f\"\\n📄 Total notes retrieved: {len(soap_notes)}\")\n",
        "            if soap_notes:\n",
        "                print(json.dumps(soap_notes[0], indent=2))  # preview first one\n",
        "\n",
        "        elif mode == \"read_one\":\n",
        "            if not blob_filename:\n",
        "                print(\"❗ Please provide a blob filename to read.\")\n",
        "                return\n",
        "            blob_client = container_client.get_blob_client(blob_filename)\n",
        "            blob_data = blob_client.download_blob().readall()\n",
        "            note = json.loads(blob_data)\n",
        "            print(json.dumps(note, indent=2))\n",
        "\n",
        "        else:\n",
        "            print(\"❌ Invalid mode. Choose from: 'upload', 'verify', 'read_all', 'read_one'.\")\n",
        "\n",
        "    except Exception as e:\n",
        "        print(f\"❌ Error: {e}\")\n"
      ],
      "metadata": {
        "id": "ciWMExg6xyMS"
      },
      "execution_count": null,
      "outputs": []
    },
    {
      "cell_type": "markdown",
      "source": [
        "Upload function"
      ],
      "metadata": {
        "id": "uhfZ8aXcx12Q"
      }
    },
    {
      "cell_type": "code",
      "source": [
        "handle_blob_operations(\"upload\", local_folder_path=\"/content/soap-jsons\")\n"
      ],
      "metadata": {
        "id": "CT_xUcvJx2_V"
      },
      "execution_count": null,
      "outputs": []
    },
    {
      "cell_type": "markdown",
      "source": [
        "Verify function"
      ],
      "metadata": {
        "id": "PLExVjMax8P_"
      }
    },
    {
      "cell_type": "code",
      "source": [
        "handle_blob_operations(\"verify\", patient_id=\"002\")\n"
      ],
      "metadata": {
        "id": "LB4XmOQ4x7EL"
      },
      "execution_count": null,
      "outputs": []
    },
    {
      "cell_type": "markdown",
      "source": [
        "Read All function"
      ],
      "metadata": {
        "id": "vbi7kDMZx_ZR"
      }
    },
    {
      "cell_type": "code",
      "source": [
        "handle_blob_operations(\"read_all\")\n"
      ],
      "metadata": {
        "id": "_q2ZUuFFx-1p"
      },
      "execution_count": null,
      "outputs": []
    },
    {
      "cell_type": "markdown",
      "source": [
        "Read specific function"
      ],
      "metadata": {
        "id": "dzVPFTbCyCEI"
      }
    },
    {
      "cell_type": "code",
      "source": [
        "handle_blob_operations(\"read_one\", blob_filename=\"patient_003.json\")\n"
      ],
      "metadata": {
        "id": "kiw1d_zfyDdQ"
      },
      "execution_count": null,
      "outputs": []
    },
    {
      "cell_type": "markdown",
      "source": [
        "#Azure OpenAI with Blob storage Implementation for Patient Summary Generation"
      ],
      "metadata": {
        "id": "srHJ8JcziTh8"
      }
    },
    {
      "cell_type": "code",
      "source": [
        "!pip install flask langchain openai azure-storage-blob pyngrok --quiet\n"
      ],
      "metadata": {
        "colab": {
          "base_uri": "https://localhost:8080/"
        },
        "id": "J1LWlqIhiXM-",
        "outputId": "a2e91fbc-646e-4562-9ab9-f4c622214daa"
      },
      "execution_count": null,
      "outputs": [
        {
          "output_type": "stream",
          "name": "stdout",
          "text": [
            "\u001b[2K     \u001b[90m━━━━━━━━━━━━━━━━━━━━━━━━━━━━━━━━━━━━━━━━\u001b[0m \u001b[32m42.6/42.6 kB\u001b[0m \u001b[31m2.1 MB/s\u001b[0m eta \u001b[36m0:00:00\u001b[0m\n",
            "\u001b[2K   \u001b[90m━━━━━━━━━━━━━━━━━━━━━━━━━━━━━━━━━━━━━━━━\u001b[0m \u001b[32m407.0/407.0 kB\u001b[0m \u001b[31m13.7 MB/s\u001b[0m eta \u001b[36m0:00:00\u001b[0m\n",
            "\u001b[2K   \u001b[90m━━━━━━━━━━━━━━━━━━━━━━━━━━━━━━━━━━━━━━━━\u001b[0m \u001b[32m207.1/207.1 kB\u001b[0m \u001b[31m12.9 MB/s\u001b[0m eta \u001b[36m0:00:00\u001b[0m\n",
            "\u001b[?25h"
          ]
        }
      ]
    },
    {
      "cell_type": "code",
      "source": [
        "!pip uninstall -y langchain langchain-core langchain-community langchain-openai\n",
        "!pip install langchain-core==0.1.32 langchain-community==0.0.26 langchain-openai==0.0.8 langchain --upgrade\n"
      ],
      "metadata": {
        "colab": {
          "base_uri": "https://localhost:8080/",
          "height": 1000
        },
        "id": "LwITF3vAjQkH",
        "outputId": "bf63b148-7ce2-4455-bb59-70078d407301"
      },
      "execution_count": null,
      "outputs": [
        {
          "output_type": "stream",
          "name": "stdout",
          "text": [
            "Found existing installation: langchain 0.3.23\n",
            "Uninstalling langchain-0.3.23:\n",
            "  Successfully uninstalled langchain-0.3.23\n",
            "Found existing installation: langchain-core 0.3.51\n",
            "Uninstalling langchain-core-0.3.51:\n",
            "  Successfully uninstalled langchain-core-0.3.51\n",
            "\u001b[33mWARNING: Skipping langchain-community as it is not installed.\u001b[0m\u001b[33m\n",
            "\u001b[0m\u001b[33mWARNING: Skipping langchain-openai as it is not installed.\u001b[0m\u001b[33m\n",
            "\u001b[0mCollecting langchain-core==0.1.32\n",
            "  Downloading langchain_core-0.1.32-py3-none-any.whl.metadata (6.0 kB)\n",
            "Collecting langchain-community==0.0.26\n",
            "  Downloading langchain_community-0.0.26-py3-none-any.whl.metadata (8.2 kB)\n",
            "Collecting langchain-openai==0.0.8\n",
            "  Downloading langchain_openai-0.0.8-py3-none-any.whl.metadata (2.5 kB)\n",
            "Collecting langchain\n",
            "  Downloading langchain-0.3.23-py3-none-any.whl.metadata (7.8 kB)\n",
            "Requirement already satisfied: PyYAML>=5.3 in /usr/local/lib/python3.11/dist-packages (from langchain-core==0.1.32) (6.0.2)\n",
            "Requirement already satisfied: anyio<5,>=3 in /usr/local/lib/python3.11/dist-packages (from langchain-core==0.1.32) (4.9.0)\n",
            "Requirement already satisfied: jsonpatch<2.0,>=1.33 in /usr/local/lib/python3.11/dist-packages (from langchain-core==0.1.32) (1.33)\n",
            "Collecting langsmith<0.2.0,>=0.1.0 (from langchain-core==0.1.32)\n",
            "  Downloading langsmith-0.1.147-py3-none-any.whl.metadata (14 kB)\n",
            "Collecting packaging<24.0,>=23.2 (from langchain-core==0.1.32)\n",
            "  Downloading packaging-23.2-py3-none-any.whl.metadata (3.2 kB)\n",
            "Requirement already satisfied: pydantic<3,>=1 in /usr/local/lib/python3.11/dist-packages (from langchain-core==0.1.32) (2.11.3)\n",
            "Requirement already satisfied: requests<3,>=2 in /usr/local/lib/python3.11/dist-packages (from langchain-core==0.1.32) (2.32.3)\n",
            "Collecting tenacity<9.0.0,>=8.1.0 (from langchain-core==0.1.32)\n",
            "  Downloading tenacity-8.5.0-py3-none-any.whl.metadata (1.2 kB)\n",
            "Requirement already satisfied: SQLAlchemy<3,>=1.4 in /usr/local/lib/python3.11/dist-packages (from langchain-community==0.0.26) (2.0.40)\n",
            "Requirement already satisfied: aiohttp<4.0.0,>=3.8.3 in /usr/local/lib/python3.11/dist-packages (from langchain-community==0.0.26) (3.11.15)\n",
            "Collecting dataclasses-json<0.7,>=0.5.7 (from langchain-community==0.0.26)\n",
            "  Downloading dataclasses_json-0.6.7-py3-none-any.whl.metadata (25 kB)\n",
            "Collecting numpy<2,>=1 (from langchain-community==0.0.26)\n",
            "  Downloading numpy-1.26.4-cp311-cp311-manylinux_2_17_x86_64.manylinux2014_x86_64.whl.metadata (61 kB)\n",
            "\u001b[2K     \u001b[90m━━━━━━━━━━━━━━━━━━━━━━━━━━━━━━━━━━━━━━━━\u001b[0m \u001b[32m61.0/61.0 kB\u001b[0m \u001b[31m4.1 MB/s\u001b[0m eta \u001b[36m0:00:00\u001b[0m\n",
            "\u001b[?25hRequirement already satisfied: openai<2.0.0,>=1.10.0 in /usr/local/lib/python3.11/dist-packages (from langchain-openai==0.0.8) (1.72.0)\n",
            "Collecting tiktoken<1,>=0.5.2 (from langchain-openai==0.0.8)\n",
            "  Downloading tiktoken-0.9.0-cp311-cp311-manylinux_2_17_x86_64.manylinux2014_x86_64.whl.metadata (6.7 kB)\n",
            "INFO: pip is looking at multiple versions of langchain to determine which version is compatible with other requirements. This could take a while.\n",
            "Collecting langchain\n",
            "  Downloading langchain-0.3.22-py3-none-any.whl.metadata (7.8 kB)\n",
            "  Downloading langchain-0.3.21-py3-none-any.whl.metadata (7.8 kB)\n",
            "  Downloading langchain-0.3.20-py3-none-any.whl.metadata (7.7 kB)\n",
            "  Downloading langchain-0.3.19-py3-none-any.whl.metadata (7.9 kB)\n",
            "  Downloading langchain-0.3.18-py3-none-any.whl.metadata (7.8 kB)\n",
            "  Downloading langchain-0.3.17-py3-none-any.whl.metadata (7.1 kB)\n",
            "  Downloading langchain-0.3.16-py3-none-any.whl.metadata (7.1 kB)\n",
            "INFO: pip is still looking at multiple versions of langchain to determine which version is compatible with other requirements. This could take a while.\n",
            "  Downloading langchain-0.3.15-py3-none-any.whl.metadata (7.1 kB)\n",
            "  Downloading langchain-0.3.14-py3-none-any.whl.metadata (7.1 kB)\n",
            "  Downloading langchain-0.3.13-py3-none-any.whl.metadata (7.1 kB)\n",
            "  Downloading langchain-0.3.12-py3-none-any.whl.metadata (7.1 kB)\n",
            "  Downloading langchain-0.3.11-py3-none-any.whl.metadata (7.1 kB)\n",
            "INFO: This is taking longer than usual. You might need to provide the dependency resolver with stricter constraints to reduce runtime. See https://pip.pypa.io/warnings/backtracking for guidance. If you want to abort this run, press Ctrl + C.\n",
            "  Downloading langchain-0.3.10-py3-none-any.whl.metadata (7.1 kB)\n",
            "  Downloading langchain-0.3.9-py3-none-any.whl.metadata (7.1 kB)\n",
            "  Downloading langchain-0.3.8-py3-none-any.whl.metadata (7.1 kB)\n",
            "  Downloading langchain-0.3.7-py3-none-any.whl.metadata (7.1 kB)\n",
            "  Downloading langchain-0.3.6-py3-none-any.whl.metadata (7.1 kB)\n",
            "  Downloading langchain-0.3.5-py3-none-any.whl.metadata (7.1 kB)\n",
            "  Downloading langchain-0.3.4-py3-none-any.whl.metadata (7.1 kB)\n",
            "  Downloading langchain-0.3.3-py3-none-any.whl.metadata (7.1 kB)\n",
            "  Downloading langchain-0.3.2-py3-none-any.whl.metadata (7.1 kB)\n",
            "  Downloading langchain-0.3.1-py3-none-any.whl.metadata (7.1 kB)\n",
            "  Downloading langchain-0.3.0-py3-none-any.whl.metadata (7.1 kB)\n",
            "  Downloading langchain-0.2.17-py3-none-any.whl.metadata (7.1 kB)\n",
            "  Downloading langchain-0.2.16-py3-none-any.whl.metadata (7.1 kB)\n",
            "  Downloading langchain-0.2.15-py3-none-any.whl.metadata (7.1 kB)\n",
            "  Downloading langchain-0.2.14-py3-none-any.whl.metadata (7.1 kB)\n",
            "  Downloading langchain-0.2.13-py3-none-any.whl.metadata (7.1 kB)\n",
            "  Downloading langchain-0.2.12-py3-none-any.whl.metadata (7.1 kB)\n",
            "  Downloading langchain-0.2.11-py3-none-any.whl.metadata (7.1 kB)\n",
            "  Downloading langchain-0.2.10-py3-none-any.whl.metadata (6.9 kB)\n",
            "  Downloading langchain-0.2.9-py3-none-any.whl.metadata (6.9 kB)\n",
            "  Downloading langchain-0.2.8-py3-none-any.whl.metadata (6.9 kB)\n",
            "  Downloading langchain-0.2.7-py3-none-any.whl.metadata (6.9 kB)\n",
            "  Downloading langchain-0.2.6-py3-none-any.whl.metadata (7.0 kB)\n",
            "  Downloading langchain-0.2.5-py3-none-any.whl.metadata (7.0 kB)\n",
            "  Downloading langchain-0.2.4-py3-none-any.whl.metadata (7.0 kB)\n",
            "  Downloading langchain-0.2.3-py3-none-any.whl.metadata (6.9 kB)\n",
            "  Downloading langchain-0.2.2-py3-none-any.whl.metadata (13 kB)\n",
            "  Downloading langchain-0.2.1-py3-none-any.whl.metadata (13 kB)\n",
            "  Downloading langchain-0.2.0-py3-none-any.whl.metadata (13 kB)\n",
            "  Downloading langchain-0.1.20-py3-none-any.whl.metadata (13 kB)\n",
            "  Downloading langchain-0.1.19-py3-none-any.whl.metadata (13 kB)\n",
            "  Downloading langchain-0.1.17-py3-none-any.whl.metadata (13 kB)\n",
            "  Downloading langchain-0.1.16-py3-none-any.whl.metadata (13 kB)\n",
            "  Downloading langchain-0.1.15-py3-none-any.whl.metadata (13 kB)\n",
            "  Downloading langchain-0.1.14-py3-none-any.whl.metadata (13 kB)\n",
            "  Downloading langchain-0.1.13-py3-none-any.whl.metadata (13 kB)\n",
            "  Downloading langchain-0.1.12-py3-none-any.whl.metadata (13 kB)\n",
            "  Downloading langchain-0.1.11-py3-none-any.whl.metadata (13 kB)\n",
            "Collecting langchain-text-splitters<0.1,>=0.0.1 (from langchain)\n",
            "  Downloading langchain_text_splitters-0.0.2-py3-none-any.whl.metadata (2.2 kB)\n",
            "Requirement already satisfied: aiohappyeyeballs>=2.3.0 in /usr/local/lib/python3.11/dist-packages (from aiohttp<4.0.0,>=3.8.3->langchain-community==0.0.26) (2.6.1)\n",
            "Requirement already satisfied: aiosignal>=1.1.2 in /usr/local/lib/python3.11/dist-packages (from aiohttp<4.0.0,>=3.8.3->langchain-community==0.0.26) (1.3.2)\n",
            "Requirement already satisfied: attrs>=17.3.0 in /usr/local/lib/python3.11/dist-packages (from aiohttp<4.0.0,>=3.8.3->langchain-community==0.0.26) (25.3.0)\n",
            "Requirement already satisfied: frozenlist>=1.1.1 in /usr/local/lib/python3.11/dist-packages (from aiohttp<4.0.0,>=3.8.3->langchain-community==0.0.26) (1.5.0)\n",
            "Requirement already satisfied: multidict<7.0,>=4.5 in /usr/local/lib/python3.11/dist-packages (from aiohttp<4.0.0,>=3.8.3->langchain-community==0.0.26) (6.4.2)\n",
            "Requirement already satisfied: propcache>=0.2.0 in /usr/local/lib/python3.11/dist-packages (from aiohttp<4.0.0,>=3.8.3->langchain-community==0.0.26) (0.3.1)\n",
            "Requirement already satisfied: yarl<2.0,>=1.17.0 in /usr/local/lib/python3.11/dist-packages (from aiohttp<4.0.0,>=3.8.3->langchain-community==0.0.26) (1.19.0)\n",
            "Requirement already satisfied: idna>=2.8 in /usr/local/lib/python3.11/dist-packages (from anyio<5,>=3->langchain-core==0.1.32) (3.10)\n",
            "Requirement already satisfied: sniffio>=1.1 in /usr/local/lib/python3.11/dist-packages (from anyio<5,>=3->langchain-core==0.1.32) (1.3.1)\n",
            "Requirement already satisfied: typing_extensions>=4.5 in /usr/local/lib/python3.11/dist-packages (from anyio<5,>=3->langchain-core==0.1.32) (4.13.1)\n",
            "Collecting marshmallow<4.0.0,>=3.18.0 (from dataclasses-json<0.7,>=0.5.7->langchain-community==0.0.26)\n",
            "  Downloading marshmallow-3.26.1-py3-none-any.whl.metadata (7.3 kB)\n",
            "Collecting typing-inspect<1,>=0.4.0 (from dataclasses-json<0.7,>=0.5.7->langchain-community==0.0.26)\n",
            "  Downloading typing_inspect-0.9.0-py3-none-any.whl.metadata (1.5 kB)\n",
            "Requirement already satisfied: jsonpointer>=1.9 in /usr/local/lib/python3.11/dist-packages (from jsonpatch<2.0,>=1.33->langchain-core==0.1.32) (3.0.0)\n",
            "Requirement already satisfied: httpx<1,>=0.23.0 in /usr/local/lib/python3.11/dist-packages (from langsmith<0.2.0,>=0.1.0->langchain-core==0.1.32) (0.28.1)\n",
            "Requirement already satisfied: orjson<4.0.0,>=3.9.14 in /usr/local/lib/python3.11/dist-packages (from langsmith<0.2.0,>=0.1.0->langchain-core==0.1.32) (3.10.16)\n",
            "Requirement already satisfied: requests-toolbelt<2.0.0,>=1.0.0 in /usr/local/lib/python3.11/dist-packages (from langsmith<0.2.0,>=0.1.0->langchain-core==0.1.32) (1.0.0)\n",
            "Requirement already satisfied: distro<2,>=1.7.0 in /usr/local/lib/python3.11/dist-packages (from openai<2.0.0,>=1.10.0->langchain-openai==0.0.8) (1.9.0)\n",
            "Requirement already satisfied: jiter<1,>=0.4.0 in /usr/local/lib/python3.11/dist-packages (from openai<2.0.0,>=1.10.0->langchain-openai==0.0.8) (0.9.0)\n",
            "Requirement already satisfied: tqdm>4 in /usr/local/lib/python3.11/dist-packages (from openai<2.0.0,>=1.10.0->langchain-openai==0.0.8) (4.67.1)\n",
            "Requirement already satisfied: annotated-types>=0.6.0 in /usr/local/lib/python3.11/dist-packages (from pydantic<3,>=1->langchain-core==0.1.32) (0.7.0)\n",
            "Requirement already satisfied: pydantic-core==2.33.1 in /usr/local/lib/python3.11/dist-packages (from pydantic<3,>=1->langchain-core==0.1.32) (2.33.1)\n",
            "Requirement already satisfied: typing-inspection>=0.4.0 in /usr/local/lib/python3.11/dist-packages (from pydantic<3,>=1->langchain-core==0.1.32) (0.4.0)\n",
            "Requirement already satisfied: charset-normalizer<4,>=2 in /usr/local/lib/python3.11/dist-packages (from requests<3,>=2->langchain-core==0.1.32) (3.4.1)\n",
            "Requirement already satisfied: urllib3<3,>=1.21.1 in /usr/local/lib/python3.11/dist-packages (from requests<3,>=2->langchain-core==0.1.32) (2.3.0)\n",
            "Requirement already satisfied: certifi>=2017.4.17 in /usr/local/lib/python3.11/dist-packages (from requests<3,>=2->langchain-core==0.1.32) (2025.1.31)\n",
            "Requirement already satisfied: greenlet>=1 in /usr/local/lib/python3.11/dist-packages (from SQLAlchemy<3,>=1.4->langchain-community==0.0.26) (3.1.1)\n",
            "Requirement already satisfied: regex>=2022.1.18 in /usr/local/lib/python3.11/dist-packages (from tiktoken<1,>=0.5.2->langchain-openai==0.0.8) (2024.11.6)\n",
            "Requirement already satisfied: httpcore==1.* in /usr/local/lib/python3.11/dist-packages (from httpx<1,>=0.23.0->langsmith<0.2.0,>=0.1.0->langchain-core==0.1.32) (1.0.7)\n",
            "Requirement already satisfied: h11<0.15,>=0.13 in /usr/local/lib/python3.11/dist-packages (from httpcore==1.*->httpx<1,>=0.23.0->langsmith<0.2.0,>=0.1.0->langchain-core==0.1.32) (0.14.0)\n",
            "Collecting mypy-extensions>=0.3.0 (from typing-inspect<1,>=0.4.0->dataclasses-json<0.7,>=0.5.7->langchain-community==0.0.26)\n",
            "  Downloading mypy_extensions-1.0.0-py3-none-any.whl.metadata (1.1 kB)\n",
            "Downloading langchain_core-0.1.32-py3-none-any.whl (260 kB)\n",
            "\u001b[2K   \u001b[90m━━━━━━━━━━━━━━━━━━━━━━━━━━━━━━━━━━━━━━━━\u001b[0m \u001b[32m260.9/260.9 kB\u001b[0m \u001b[31m7.9 MB/s\u001b[0m eta \u001b[36m0:00:00\u001b[0m\n",
            "\u001b[?25hDownloading langchain_community-0.0.26-py3-none-any.whl (1.8 MB)\n",
            "\u001b[2K   \u001b[90m━━━━━━━━━━━━━━━━━━━━━━━━━━━━━━━━━━━━━━━━\u001b[0m \u001b[32m1.8/1.8 MB\u001b[0m \u001b[31m14.9 MB/s\u001b[0m eta \u001b[36m0:00:00\u001b[0m\n",
            "\u001b[?25hDownloading langchain_openai-0.0.8-py3-none-any.whl (32 kB)\n",
            "Downloading langchain-0.1.11-py3-none-any.whl (807 kB)\n",
            "\u001b[2K   \u001b[90m━━━━━━━━━━━━━━━━━━━━━━━━━━━━━━━━━━━━━━━━\u001b[0m \u001b[32m807.5/807.5 kB\u001b[0m \u001b[31m34.8 MB/s\u001b[0m eta \u001b[36m0:00:00\u001b[0m\n",
            "\u001b[?25hDownloading dataclasses_json-0.6.7-py3-none-any.whl (28 kB)\n",
            "Downloading langchain_text_splitters-0.0.2-py3-none-any.whl (23 kB)\n",
            "Downloading langsmith-0.1.147-py3-none-any.whl (311 kB)\n",
            "\u001b[2K   \u001b[90m━━━━━━━━━━━━━━━━━━━━━━━━━━━━━━━━━━━━━━━━\u001b[0m \u001b[32m311.8/311.8 kB\u001b[0m \u001b[31m22.0 MB/s\u001b[0m eta \u001b[36m0:00:00\u001b[0m\n",
            "\u001b[?25hDownloading numpy-1.26.4-cp311-cp311-manylinux_2_17_x86_64.manylinux2014_x86_64.whl (18.3 MB)\n",
            "\u001b[2K   \u001b[90m━━━━━━━━━━━━━━━━━━━━━━━━━━━━━━━━━━━━━━━━\u001b[0m \u001b[32m18.3/18.3 MB\u001b[0m \u001b[31m17.5 MB/s\u001b[0m eta \u001b[36m0:00:00\u001b[0m\n",
            "\u001b[?25hDownloading packaging-23.2-py3-none-any.whl (53 kB)\n",
            "\u001b[2K   \u001b[90m━━━━━━━━━━━━━━━━━━━━━━━━━━━━━━━━━━━━━━━━\u001b[0m \u001b[32m53.0/53.0 kB\u001b[0m \u001b[31m3.4 MB/s\u001b[0m eta \u001b[36m0:00:00\u001b[0m\n",
            "\u001b[?25hDownloading tenacity-8.5.0-py3-none-any.whl (28 kB)\n",
            "Downloading tiktoken-0.9.0-cp311-cp311-manylinux_2_17_x86_64.manylinux2014_x86_64.whl (1.2 MB)\n",
            "\u001b[2K   \u001b[90m━━━━━━━━━━━━━━━━━━━━━━━━━━━━━━━━━━━━━━━━\u001b[0m \u001b[32m1.2/1.2 MB\u001b[0m \u001b[31m20.9 MB/s\u001b[0m eta \u001b[36m0:00:00\u001b[0m\n",
            "\u001b[?25hDownloading marshmallow-3.26.1-py3-none-any.whl (50 kB)\n",
            "\u001b[2K   \u001b[90m━━━━━━━━━━━━━━━━━━━━━━━━━━━━━━━━━━━━━━━━\u001b[0m \u001b[32m50.9/50.9 kB\u001b[0m \u001b[31m3.1 MB/s\u001b[0m eta \u001b[36m0:00:00\u001b[0m\n",
            "\u001b[?25hDownloading typing_inspect-0.9.0-py3-none-any.whl (8.8 kB)\n",
            "Downloading mypy_extensions-1.0.0-py3-none-any.whl (4.7 kB)\n",
            "Installing collected packages: tenacity, packaging, numpy, mypy-extensions, typing-inspect, tiktoken, marshmallow, langsmith, dataclasses-json, langchain-core, langchain-text-splitters, langchain-openai, langchain-community, langchain\n",
            "  Attempting uninstall: tenacity\n",
            "    Found existing installation: tenacity 9.1.2\n",
            "    Uninstalling tenacity-9.1.2:\n",
            "      Successfully uninstalled tenacity-9.1.2\n",
            "  Attempting uninstall: packaging\n",
            "    Found existing installation: packaging 24.2\n",
            "    Uninstalling packaging-24.2:\n",
            "      Successfully uninstalled packaging-24.2\n",
            "  Attempting uninstall: numpy\n",
            "    Found existing installation: numpy 2.0.2\n",
            "    Uninstalling numpy-2.0.2:\n",
            "      Successfully uninstalled numpy-2.0.2\n",
            "  Attempting uninstall: langsmith\n",
            "    Found existing installation: langsmith 0.3.28\n",
            "    Uninstalling langsmith-0.3.28:\n",
            "      Successfully uninstalled langsmith-0.3.28\n",
            "  Attempting uninstall: langchain-text-splitters\n",
            "    Found existing installation: langchain-text-splitters 0.3.8\n",
            "    Uninstalling langchain-text-splitters-0.3.8:\n",
            "      Successfully uninstalled langchain-text-splitters-0.3.8\n",
            "\u001b[31mERROR: pip's dependency resolver does not currently take into account all the packages that are installed. This behaviour is the source of the following dependency conflicts.\n",
            "google-cloud-bigquery 3.31.0 requires packaging>=24.2.0, but you have packaging 23.2 which is incompatible.\n",
            "thinc 8.3.6 requires numpy<3.0.0,>=2.0.0, but you have numpy 1.26.4 which is incompatible.\u001b[0m\u001b[31m\n",
            "\u001b[0mSuccessfully installed dataclasses-json-0.6.7 langchain-0.1.11 langchain-community-0.0.26 langchain-core-0.1.32 langchain-openai-0.0.8 langchain-text-splitters-0.0.2 langsmith-0.1.147 marshmallow-3.26.1 mypy-extensions-1.0.0 numpy-1.26.4 packaging-23.2 tenacity-8.5.0 tiktoken-0.9.0 typing-inspect-0.9.0\n"
          ]
        },
        {
          "output_type": "display_data",
          "data": {
            "application/vnd.colab-display-data+json": {
              "pip_warning": {
                "packages": [
                  "tenacity"
                ]
              },
              "id": "0979c1c50fdf46f69747f64d2e0faa4e"
            }
          },
          "metadata": {}
        }
      ]
    },
    {
      "cell_type": "code",
      "source": [
        "from langchain_openai import AzureChatOpenAI\n",
        "from langchain.prompts import PromptTemplate\n",
        "from langchain_core.output_parsers import StrOutputParser\n",
        "from langchain_core.runnables import RunnableSequence\n"
      ],
      "metadata": {
        "id": "vS-HAyYcjTkT"
      },
      "execution_count": null,
      "outputs": []
    },
    {
      "cell_type": "code",
      "source": [
        "llm = AzureChatOpenAI(\n",
        "    openai_api_key=os.environ[\"AZURE_OPENAI_API_KEY\"],\n",
        "    azure_endpoint=os.environ[\"AZURE_OPENAI_ENDPOINT\"],\n",
        "    deployment_name=\"your_deployment_name\",\n",
        "    openai_api_version=\"2023-05-15\",  # required version for Azure\n",
        "    temperature=0.3\n",
        ")\n"
      ],
      "metadata": {
        "id": "sJ34w0GQjVDi"
      },
      "execution_count": null,
      "outputs": []
    },
    {
      "cell_type": "code",
      "source": [
        "import os, json, threading, getpass\n",
        "from flask import Flask, request, jsonify\n",
        "from azure.storage.blob import BlobServiceClient\n",
        "from langchain_openai import AzureChatOpenAI\n",
        "from langchain.prompts import PromptTemplate\n",
        "from langchain_core.output_parsers import StrOutputParser\n",
        "from langchain_core.runnables import RunnableSequence\n",
        "\n",
        "# Prompt for config\n",
        "os.environ[\"AZURE_OPENAI_API_KEY\"] = getpass.getpass(\"🔐 Azure OpenAI API Key: \")\n",
        "os.environ[\"AZURE_OPENAI_ENDPOINT\"] = input(\"🔗 Azure Endpoint (e.g. https://YOUR-RESOURCE.openai.azure.com): \")\n",
        "DEPLOYMENT_NAME = input(\"🧠 Azure OpenAI deployment name (e.g. gpt35): \")\n",
        "AZURE_CONNECTION_STRING = getpass.getpass(\"📦 Azure Blob Connection String: \")\n",
        "CONTAINER_NAME = input(\"📁 Azure Blob Container Name (e.g. soap-notes): \")\n",
        "\n",
        "# Azure Blob client\n",
        "blob_service_client = BlobServiceClient.from_connection_string(AZURE_CONNECTION_STRING)\n",
        "container_client = blob_service_client.get_container_client(CONTAINER_NAME)\n",
        "\n",
        "# LangChain + Azure OpenAI setup\n",
        "llm = AzureChatOpenAI(\n",
        "    openai_api_key=os.environ[\"AZURE_OPENAI_API_KEY\"],\n",
        "    azure_endpoint=os.environ[\"AZURE_OPENAI_ENDPOINT\"],\n",
        "    deployment_name=DEPLOYMENT_NAME,\n",
        "    openai_api_version=\"2023-05-15\",\n",
        "    temperature=0.3\n",
        ")\n",
        "\n",
        "prompt = PromptTemplate.from_template(\"\"\"\n",
        "You are a medical assistant. Summarize the following patient SOAP note in 4-5 clear, professional sentences:\n",
        "\n",
        "{note}\n",
        "\"\"\")\n",
        "summary_chain: RunnableSequence = prompt | llm | StrOutputParser()\n",
        "\n",
        "# Flask app\n",
        "app = Flask(__name__)\n",
        "\n",
        "def get_patient_note(patient_id):\n",
        "    blob_name = f\"patient_{patient_id}.json\"\n",
        "    blob_client = container_client.get_blob_client(blob_name)\n",
        "    blob_data = blob_client.download_blob().readall()\n",
        "    return json.loads(blob_data)\n",
        "\n",
        "def generate_summary(note_json):\n",
        "    note_text = json.dumps(note_json, indent=2)\n",
        "    return summary_chain.invoke({\"note\": note_text})\n",
        "\n",
        "@app.route(\"/summarize\", methods=[\"GET\"])\n",
        "def summarize():\n",
        "    patient_id = request.args.get(\"patient_id\")\n",
        "    if not patient_id:\n",
        "        return jsonify({\"error\": \"Missing patient_id\"}), 400\n",
        "    try:\n",
        "        note = get_patient_note(patient_id)\n",
        "        summary = generate_summary(note)\n",
        "        return jsonify({\"patient_id\": patient_id, \"summary\": summary})\n",
        "    except Exception as e:\n",
        "        return jsonify({\"error\": str(e)}), 500\n"
      ],
      "metadata": {
        "colab": {
          "base_uri": "https://localhost:8080/"
        },
        "id": "j9xzthftj9CP",
        "outputId": "8fa2a71b-1908-4730-db1d-327a731bdca5"
      },
      "execution_count": null,
      "outputs": [
        {
          "name": "stdout",
          "output_type": "stream",
          "text": [
            "🔐 Azure OpenAI API Key: ··········\n",
            "🔗 Azure Endpoint (e.g. https://YOUR-RESOURCE.openai.azure.com): https://openai-medistory.openai.azure.com/openai/deployments/gpt-35-turbo/chat/completions?api-version=2025-01-01-preview\n",
            "🧠 Azure OpenAI deployment name (e.g. gpt35): gpt-35-turbo\n",
            "📦 Azure Blob Connection String: ··········\n",
            "📁 Azure Blob Container Name (e.g. soap-notes): soap-notes\n"
          ]
        }
      ]
    },
    {
      "cell_type": "code",
      "source": [
        "import os, getpass, json\n",
        "from azure.storage.blob import BlobServiceClient\n",
        "from langchain_openai import AzureChatOpenAI\n",
        "from langchain.prompts import PromptTemplate\n",
        "from langchain_core.output_parsers import StrOutputParser\n",
        "from langchain_core.runnables import RunnableSequence\n",
        "\n",
        "# 🔐 Secure credentials\n",
        "os.environ[\"AZURE_OPENAI_API_KEY\"] = getpass.getpass(\"🔐 Azure OpenAI API Key: \")\n",
        "os.environ[\"AZURE_OPENAI_ENDPOINT\"] = input(\"🔗 Azure Endpoint (e.g. https://YOUR-RESOURCE.openai.azure.com): \")\n",
        "deployment_name = input(\"🧠 Azure OpenAI deployment name (e.g. gpt35): \")\n",
        "\n",
        "AZURE_CONNECTION_STRING = getpass.getpass(\"🔐 Azure Blob Connection String: \")\n",
        "CONTAINER_NAME = input(\"📦 Azure Blob Container Name (e.g. soap-notes): \")\n",
        "PATIENT_ID = input(\"🧑‍⚕️ Patient ID (e.g. 002): \")\n",
        "\n",
        "# 🔌 Azure Blob Access\n",
        "blob_service_client = BlobServiceClient.from_connection_string(AZURE_CONNECTION_STRING)\n",
        "container_client = blob_service_client.get_container_client(CONTAINER_NAME)\n",
        "blob_name = f\"patient_{PATIENT_ID}.json\"\n",
        "blob_client = container_client.get_blob_client(blob_name)\n",
        "blob_data = blob_client.download_blob().readall()\n",
        "note_json = json.loads(blob_data)\n",
        "\n",
        "# 🤖 LangChain + Azure OpenAI Setup\n",
        "llm = AzureChatOpenAI(\n",
        "    openai_api_key=os.environ[\"AZURE_OPENAI_API_KEY\"],\n",
        "    azure_endpoint=os.environ[\"AZURE_OPENAI_ENDPOINT\"],\n",
        "    deployment_name=deployment_name,\n",
        "    openai_api_version=\"2023-05-15\",\n",
        "    temperature=0.3\n",
        ")\n",
        "\n",
        "prompt = PromptTemplate.from_template(\"\"\"\n",
        "You are a medical assistant. Summarize the following patient SOAP note in 4-5 clear, professional sentences:\n",
        "\n",
        "{note}\n",
        "\"\"\")\n",
        "\n",
        "chain: RunnableSequence = prompt | llm | StrOutputParser()\n",
        "summary = chain.invoke({\"note\": json.dumps(note_json, indent=2)})\n",
        "\n",
        "# 📋 Output\n",
        "print(f\"\\n✅ Summary for patient_{PATIENT_ID}.json:\\n\\n{summary}\")\n"
      ],
      "metadata": {
        "colab": {
          "base_uri": "https://localhost:8080/"
        },
        "id": "fI1-g4SbkUy-",
        "outputId": "ea7077d8-4e08-41dc-ebc3-a2c49903b087"
      },
      "execution_count": null,
      "outputs": [
        {
          "output_type": "stream",
          "name": "stdout",
          "text": [
            "🔐 Azure OpenAI API Key: ··········\n",
            "🔗 Azure Endpoint (e.g. https://YOUR-RESOURCE.openai.azure.com): https://hxd23-m9kr43fq-eastus2.cognitiveservices.azure.com/openai/deployments/gpt-4o/chat/completions?api-version=2025-01-01-preview\n",
            "🧠 Azure OpenAI deployment name (e.g. gpt35): gpt-4o\n",
            "🔐 Azure Blob Connection String: ··········\n",
            "📦 Azure Blob Container Name (e.g. soap-notes): soap-notes\n",
            "🧑‍⚕️ Patient ID (e.g. 002): 005\n",
            "\n",
            "✅ Summary for patient_005.json:\n",
            "\n",
            "A 45-year-old Caucasian female teacher with a history of asthma presented with a chronic cough, shortness of breath, wheezing, chest tightness, and difficulty sleeping for the past three months. Physical examination revealed bilateral wheezing on auscultation and tenderness in the right upper quadrant of the abdomen. Vital signs were stable, though the respiratory rate was elevated at 22 breaths per minute, and oxygen saturation was slightly reduced at 95%. The primary diagnosis is asthma exacerbation with pneumonia, with differential considerations including COPD, bronchiectasis, and lung cancer. The plan includes diagnostic imaging (chest X-ray and CT scan), laboratory tests, antibiotics, bronchodilators, and follow-up in one week with a referral to a pulmonologist for further evaluation.\n"
          ]
        }
      ]
    }
  ]
}